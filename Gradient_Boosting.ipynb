{
 "cells": [
  {
   "cell_type": "code",
   "execution_count": 1,
   "id": "6faeb842-ab46-4d87-8a81-b62dace7655d",
   "metadata": {},
   "outputs": [],
   "source": [
    "import pandas as pd\n",
    "import time\n",
    "from sklearn.model_selection import train_test_split\n",
    "from sklearn.preprocessing import MinMaxScaler\n",
    "from sklearn.ensemble import GradientBoostingRegressor\n",
    "from sklearn.metrics import mean_squared_error, mean_absolute_error, r2_score \n",
    "import seaborn as sns\n",
    "import matplotlib.pyplot as plt\n",
    "import numpy as np\n",
    "from sklearn.model_selection import GridSearchCV"
   ]
  },
  {
   "cell_type": "code",
   "execution_count": 2,
   "id": "4eb82e19-acd4-47bd-9dce-18b18b145d20",
   "metadata": {},
   "outputs": [],
   "source": [
    "df_1 = pd.read_csv(r\"C:\\Users\\flore\\OneDrive\\Documents\\CSUN\\Fall24\\COMP_541\\Project\\VideoGame\\games.csv\")"
   ]
  },
  {
   "cell_type": "code",
   "execution_count": 3,
   "id": "07e0d7ab-b353-4898-ba14-d55feb782f35",
   "metadata": {},
   "outputs": [],
   "source": [
    "df_2 = pd.read_csv(r\"C:\\Users\\flore\\OneDrive\\Documents\\CSUN\\Fall24\\COMP_541\\Project\\VideoGame\\all_games.csv\")"
   ]
  },
  {
   "cell_type": "code",
   "execution_count": 4,
   "id": "de11267f-1459-4bdc-a1e5-a2a5dca834e4",
   "metadata": {},
   "outputs": [],
   "source": [
    "df_1.columns = ['Name','Release date','Estimated Owners','Peak CCU','Required age','Price','Unknown1',\n",
    "              'Unknown2','About the game','Supported languages','Full audio languages','Reviews','Header Image','Website',\n",
    "              'Support url','Support email','Windows','Mac', 'Linux','User score','Metacritic url'\n",
    "              ,'Positive','Negative','Score rank','Achievements','Recommendations','Unknown3','Notes',\n",
    "              'Average playtime forever','Average playtime two weeks','Median playtime forever','Median playtime two weeks',\n",
    "              'Developers','Publishers','Categories','Genres','Tags','Screenshots','Movies']"
   ]
  },
  {
   "cell_type": "code",
   "execution_count": 5,
   "id": "07541e42-94f6-44f4-8204-3c7442ae5c0c",
   "metadata": {},
   "outputs": [],
   "source": [
    "df_2.columns = ['Name','Platform','Release Date','Summary','Meta Score','User Review']"
   ]
  },
  {
   "cell_type": "code",
   "execution_count": 6,
   "id": "e5bd7666-773f-4bff-9b4f-f66b4f4a8c52",
   "metadata": {},
   "outputs": [],
   "source": [
    "df_1 = df_1.drop(['Developers','User score','Average playtime forever','Average playtime two weeks','Median playtime forever','Median playtime two weeks','Recommendations','Estimated Owners','About the game','Reviews','Unknown1','Unknown2','Unknown3', 'Supported languages','Full audio languages','Header Image' ,'Website', 'Support url', 'Support email', 'Notes', 'Metacritic url', 'Achievements', 'Screenshots', 'Movies','Publishers','Categories','Tags'], axis=1)"
   ]
  },
  {
   "cell_type": "code",
   "execution_count": 7,
   "id": "216e20dc-a8f6-48f3-b9f4-0fe7202a6617",
   "metadata": {},
   "outputs": [],
   "source": [
    "df_2 = df_2.drop(['Summary','Release Date','Platform','User Review'], axis=1)"
   ]
  },
  {
   "cell_type": "code",
   "execution_count": 8,
   "id": "78b2f820-4f6b-46f1-b138-78652ab3a2cf",
   "metadata": {},
   "outputs": [],
   "source": [
    "VG_dataset = pd.merge(df_1, df_2, on='Name', how='inner')"
   ]
  },
  {
   "cell_type": "code",
   "execution_count": 9,
   "id": "67214db7-5c7e-4a5b-9c55-ceccd94902b1",
   "metadata": {},
   "outputs": [
    {
     "name": "stdout",
     "output_type": "stream",
     "text": [
      "Number of matching instances in 'Name': 5860\n"
     ]
    }
   ],
   "source": [
    "len_VG_dataset = len(VG_dataset)\n",
    "print(f\"Number of matching instances in 'Name': {len_VG_dataset}\")"
   ]
  },
  {
   "cell_type": "code",
   "execution_count": 10,
   "id": "29d9dd4f-3855-4451-a76e-067d29ed97ce",
   "metadata": {},
   "outputs": [
    {
     "name": "stdout",
     "output_type": "stream",
     "text": [
      "Name            0\n",
      "Release date    0\n",
      "Peak CCU        0\n",
      "Required age    0\n",
      "Price           0\n",
      "Windows         0\n",
      "Mac             0\n",
      "Linux           0\n",
      "Positive        0\n",
      "Negative        0\n",
      "Score rank      0\n",
      "Genres          3\n",
      "Meta Score      0\n",
      "dtype: int64\n"
     ]
    }
   ],
   "source": [
    "print(VG_dataset.isna().sum())"
   ]
  },
  {
   "cell_type": "code",
   "execution_count": 11,
   "id": "38882e0a-871b-4eea-8e9a-78aa89715728",
   "metadata": {},
   "outputs": [],
   "source": [
    "VG_dataset = VG_dataset.dropna()"
   ]
  },
  {
   "cell_type": "code",
   "execution_count": 12,
   "id": "449191c6-2fb1-472e-bd59-3708c0823542",
   "metadata": {},
   "outputs": [],
   "source": [
    "VG_dataset = VG_dataset.drop(['Name'], axis = 1)"
   ]
  },
  {
   "cell_type": "code",
   "execution_count": 13,
   "id": "04a2b443-ba4c-4f63-8845-e9581b53f3ba",
   "metadata": {},
   "outputs": [
    {
     "data": {
      "text/plain": [
       "(5857, 12)"
      ]
     },
     "execution_count": 13,
     "metadata": {},
     "output_type": "execute_result"
    }
   ],
   "source": [
    "VG_dataset.shape"
   ]
  },
  {
   "cell_type": "code",
   "execution_count": 14,
   "id": "50d6c3c4-5ee5-41c6-99bc-4cffe874f6d4",
   "metadata": {
    "scrolled": true
   },
   "outputs": [],
   "source": [
    "VG_dataset['Release date'] = VG_dataset['Release date'].str.extract(r'(\\d{4})')\n",
    "VG_dataset['Release date'] = pd.to_numeric(VG_dataset['Release date'], errors='coerce')\n",
    "VG_dataset = VG_dataset[VG_dataset['Release date'] >= 2014]"
   ]
  },
  {
   "cell_type": "code",
   "execution_count": 15,
   "id": "b1220721-df4c-4ad7-a57c-ed5fc0cf7cf2",
   "metadata": {},
   "outputs": [
    {
     "name": "stdout",
     "output_type": "stream",
     "text": [
      "Number of Games instances release after 2014': 4573\n"
     ]
    }
   ],
   "source": [
    "len_VG_filter_by_year = len(VG_dataset)\n",
    "print(f\"Number of Games instances release after 2014': {len_VG_filter_by_year}\")"
   ]
  },
  {
   "cell_type": "code",
   "execution_count": 16,
   "id": "04a643ff-dd70-467d-8405-8977f801f010",
   "metadata": {},
   "outputs": [],
   "source": [
    "VG_dataset['Genres'] = VG_dataset['Genres'].str.split(',')\n",
    "unique_tags = set(tag for sublist in VG_dataset['Genres'] for tag in sublist)\n",
    "one_hot_encoded_genres = VG_dataset['Genres'].str.join('|').str.get_dummies()\n",
    "VG_dataset = pd.concat([VG_dataset, one_hot_encoded_genres], axis=1)\n",
    "VG_dataset.drop('Genres', axis=1, inplace=True) #don't need 'Genres' feature any more"
   ]
  },
  {
   "cell_type": "code",
   "execution_count": 17,
   "id": "7e8489a3-2745-408a-809b-b83af90c9f47",
   "metadata": {},
   "outputs": [],
   "source": [
    "Q1 = VG_dataset['Negative'].quantile(0.25)\n",
    "Q3 = VG_dataset['Negative'].quantile(0.75)\n",
    "IQR = Q3 - Q1\n",
    "lower_bound = Q1 - 1.5 * IQR\n",
    "upper_bound = Q3 + 1.5 * IQR\n",
    "VG_outliers_filter = VG_dataset[(VG_dataset['Negative'] >= lower_bound) & (VG_dataset['Negative'] <= upper_bound)]"
   ]
  },
  {
   "cell_type": "code",
   "execution_count": 18,
   "id": "4608ef7d-a451-4e73-8736-1ec6d0bfda84",
   "metadata": {},
   "outputs": [
    {
     "name": "stdout",
     "output_type": "stream",
     "text": [
      "Lower Bound: -6519.0\n",
      "Upper Bound: 11465.0\n",
      "Total Number of Outliers: 693\n"
     ]
    }
   ],
   "source": [
    "total_outliers = len(VG_dataset) - len(VG_outliers_filter)\n",
    "print(f\"Lower Bound: {lower_bound}\")\n",
    "print(f\"Upper Bound: {upper_bound}\")\n",
    "print(f\"Total Number of Outliers: {total_outliers}\")"
   ]
  },
  {
   "cell_type": "code",
   "execution_count": 19,
   "id": "3199d0d4-35da-4ecb-9e0c-9ccfa482ccc9",
   "metadata": {},
   "outputs": [
    {
     "data": {
      "image/png": "[encoded data removed]",
      "text/plain": [
       "<Figure size 1000x200 with 1 Axes>"
      ]
     },
     "metadata": {},
     "output_type": "display_data"
    }
   ],
   "source": [
    "plt.figure(figsize=(10, 2))\n",
    "plt.title(\"Negative Values on Number Line\")\n",
    "plt.axhline(0, color='black', lw=0.8)  \n",
    "plt.text(0, 0.1, f'Number of Outliers: {total_outliers}', fontsize=12, ha='center', color='black')\n",
    "plt.axvline(upper_bound, color='green', linestyle='--', label='Upper Bound')\n",
    "plt.scatter(VG_dataset['Negative'], np.zeros(len(VG_dataset)), color='blue', label='Negative Values', s=10)\n",
    "plt.xlim(VG_dataset['Negative'].min() - 100, VG_dataset['Negative'].max()+10000)  # x-axis limits\n",
    "plt.yticks([])  \n",
    "plt.xlabel(\"Negative Values\")\n",
    "plt.legend()\n",
    "plt.grid(False)\n",
    "plt.show()"
   ]
  },
  {
   "cell_type": "code",
   "execution_count": 20,
   "id": "e20cd337-a680-443a-ab7f-1c394ed620ce",
   "metadata": {},
   "outputs": [],
   "source": [
    "VG_dataset = VG_outliers_filter"
   ]
  },
  {
   "cell_type": "code",
   "execution_count": 21,
   "id": "9c9e8001-e25b-4d32-9eef-9b57940684a6",
   "metadata": {},
   "outputs": [],
   "source": [
    "scaler = MinMaxScaler()\n",
    "normalization_data = scaler.fit_transform(VG_dataset[['Release date', 'Peak CCU','Required age','Price', 'Positive', 'Negative','Score rank','Meta Score']])\n",
    "VG_dataset[['Release date', 'Peak CCU','Required age','Price', 'Positive', 'Negative', 'Score rank','Meta Score']] = normalization_data"
   ]
  },
  {
   "cell_type": "code",
   "execution_count": 22,
   "id": "6d7488df-36c5-4f0c-abe3-85e485d4924b",
   "metadata": {},
   "outputs": [],
   "source": [
    "genre_columns = VG_dataset.columns[11:]\n",
    "threshold = 0.10 * len(VG_dataset)\n",
    "filtered_genres = [col for col in genre_columns if VG_dataset[col].sum() >= threshold]\n",
    "columns_to_keep = VG_dataset.columns[1:11].tolist() + filtered_genres\n",
    "VG_dataset = VG_dataset[columns_to_keep]"
   ]
  },
  {
   "cell_type": "code",
   "execution_count": 23,
   "id": "e291fdbf-7765-4542-9e12-114b00fc8039",
   "metadata": {},
   "outputs": [
    {
     "name": "stdout",
     "output_type": "stream",
     "text": [
      "[ True]\n"
     ]
    }
   ],
   "source": [
    "unique_windows = VG_dataset['Windows'].unique()\n",
    "print(unique_windows)"
   ]
  },
  {
   "cell_type": "code",
   "execution_count": 24,
   "id": "5a392c49-707e-478a-b81a-a36771728e80",
   "metadata": {},
   "outputs": [],
   "source": [
    "# Remove the feature 'Window' because all the instance has the same value \n",
    "# redundant feature \n",
    "VG_dataset= VG_dataset.drop(['Windows'], axis=1)"
   ]
  },
  {
   "cell_type": "code",
   "execution_count": 25,
   "id": "4ac0db15-f5fe-48ba-8d93-468a4465692b",
   "metadata": {},
   "outputs": [
    {
     "name": "stdout",
     "output_type": "stream",
     "text": [
      "Correlation with 'Meta Score':\n",
      "Peak CCU        0.101408\n",
      "Required age   -0.084234\n",
      "Price           0.107857\n",
      "Mac             0.091121\n",
      "Linux           0.085801\n",
      "Positive        0.004695\n",
      "Negative        0.271781\n",
      "Score rank      0.017465\n",
      "Meta Score      1.000000\n",
      "Action         -0.035465\n",
      "Adventure       0.008087\n",
      "Casual          0.001627\n",
      "Indie           0.046899\n",
      "RPG             0.041915\n",
      "Simulation     -0.016598\n",
      "Strategy        0.012977\n",
      "Name: Meta Score, dtype: float64\n"
     ]
    }
   ],
   "source": [
    "correlation_matrix = VG_dataset.corr()\n",
    "meta_score_correlation = correlation_matrix['Meta Score']\n",
    "print(\"Correlation with 'Meta Score':\")\n",
    "print(meta_score_correlation)"
   ]
  },
  {
   "cell_type": "code",
   "execution_count": 26,
   "id": "dcf57d3c-06dd-4157-9715-9d4e4fd2ba80",
   "metadata": {},
   "outputs": [],
   "source": [
    "low_correlation_features = meta_score_correlation[abs(meta_score_correlation) < 0.015].index.tolist()\n",
    "VG_dataset.drop(columns=low_correlation_features, inplace=True)"
   ]
  },
  {
   "cell_type": "code",
   "execution_count": 27,
   "id": "7bd517db-e98a-49ba-bb08-dc2988ff6d3d",
   "metadata": {},
   "outputs": [
    {
     "data": {
      "text/html": [
       "<div>\n",
       "<style scoped>\n",
       "    .dataframe tbody tr th:only-of-type {\n",
       "        vertical-align: middle;\n",
       "    }\n",
       "\n",
       "    .dataframe tbody tr th {\n",
       "        vertical-align: top;\n",
       "    }\n",
       "\n",
       "    .dataframe thead th {\n",
       "        text-align: right;\n",
       "    }\n",
       "</style>\n",
       "<table border=\"1\" class=\"dataframe\">\n",
       "  <thead>\n",
       "    <tr style=\"text-align: right;\">\n",
       "      <th></th>\n",
       "      <th>Peak CCU</th>\n",
       "      <th>Required age</th>\n",
       "      <th>Price</th>\n",
       "      <th>Mac</th>\n",
       "      <th>Linux</th>\n",
       "      <th>Negative</th>\n",
       "      <th>Score rank</th>\n",
       "      <th>Meta Score</th>\n",
       "      <th>Action</th>\n",
       "      <th>Indie</th>\n",
       "      <th>RPG</th>\n",
       "      <th>Simulation</th>\n",
       "    </tr>\n",
       "  </thead>\n",
       "  <tbody>\n",
       "    <tr>\n",
       "      <th>11</th>\n",
       "      <td>0.000070</td>\n",
       "      <td>0.000000</td>\n",
       "      <td>0.074954</td>\n",
       "      <td>False</td>\n",
       "      <td>False</td>\n",
       "      <td>0.018055</td>\n",
       "      <td>0.007046</td>\n",
       "      <td>0.657534</td>\n",
       "      <td>1</td>\n",
       "      <td>1</td>\n",
       "      <td>1</td>\n",
       "      <td>0</td>\n",
       "    </tr>\n",
       "    <tr>\n",
       "      <th>12</th>\n",
       "      <td>0.000279</td>\n",
       "      <td>0.000000</td>\n",
       "      <td>0.004950</td>\n",
       "      <td>False</td>\n",
       "      <td>False</td>\n",
       "      <td>0.181683</td>\n",
       "      <td>0.034584</td>\n",
       "      <td>0.821918</td>\n",
       "      <td>1</td>\n",
       "      <td>1</td>\n",
       "      <td>0</td>\n",
       "      <td>0</td>\n",
       "    </tr>\n",
       "    <tr>\n",
       "      <th>13</th>\n",
       "      <td>0.000279</td>\n",
       "      <td>0.000000</td>\n",
       "      <td>0.004950</td>\n",
       "      <td>False</td>\n",
       "      <td>False</td>\n",
       "      <td>0.181683</td>\n",
       "      <td>0.034584</td>\n",
       "      <td>0.739726</td>\n",
       "      <td>1</td>\n",
       "      <td>1</td>\n",
       "      <td>0</td>\n",
       "      <td>0</td>\n",
       "    </tr>\n",
       "    <tr>\n",
       "      <th>16</th>\n",
       "      <td>0.000070</td>\n",
       "      <td>0.000000</td>\n",
       "      <td>0.124956</td>\n",
       "      <td>False</td>\n",
       "      <td>False</td>\n",
       "      <td>0.036633</td>\n",
       "      <td>0.010569</td>\n",
       "      <td>0.397260</td>\n",
       "      <td>0</td>\n",
       "      <td>1</td>\n",
       "      <td>0</td>\n",
       "      <td>0</td>\n",
       "    </tr>\n",
       "    <tr>\n",
       "      <th>17</th>\n",
       "      <td>0.003175</td>\n",
       "      <td>0.722222</td>\n",
       "      <td>0.199960</td>\n",
       "      <td>False</td>\n",
       "      <td>False</td>\n",
       "      <td>0.184300</td>\n",
       "      <td>0.008988</td>\n",
       "      <td>0.794521</td>\n",
       "      <td>0</td>\n",
       "      <td>0</td>\n",
       "      <td>1</td>\n",
       "      <td>0</td>\n",
       "    </tr>\n",
       "  </tbody>\n",
       "</table>\n",
       "</div>"
      ],
      "text/plain": [
       "    Peak CCU  Required age     Price    Mac  Linux  Negative  Score rank  \\\n",
       "11  0.000070      0.000000  0.074954  False  False  0.018055    0.007046   \n",
       "12  0.000279      0.000000  0.004950  False  False  0.181683    0.034584   \n",
       "13  0.000279      0.000000  0.004950  False  False  0.181683    0.034584   \n",
       "16  0.000070      0.000000  0.124956  False  False  0.036633    0.010569   \n",
       "17  0.003175      0.722222  0.199960  False  False  0.184300    0.008988   \n",
       "\n",
       "    Meta Score  Action  Indie  RPG  Simulation  \n",
       "11    0.657534       1      1    1           0  \n",
       "12    0.821918       1      1    0           0  \n",
       "13    0.739726       1      1    0           0  \n",
       "16    0.397260       0      1    0           0  \n",
       "17    0.794521       0      0    1           0  "
      ]
     },
     "execution_count": 27,
     "metadata": {},
     "output_type": "execute_result"
    }
   ],
   "source": [
    "VG_dataset.head()"
   ]
  },
  {
   "cell_type": "code",
   "execution_count": 28,
   "id": "d436e4dc-c52b-48d5-982e-55fcb464d4f2",
   "metadata": {},
   "outputs": [
    {
     "data": {
      "text/plain": [
       "(3880, 12)"
      ]
     },
     "execution_count": 28,
     "metadata": {},
     "output_type": "execute_result"
    }
   ],
   "source": [
    "VG_dataset.shape"
   ]
  },
  {
   "cell_type": "code",
   "execution_count": 29,
   "id": "8e8f7a8e-bb0a-4c4c-b5f8-19191bcf0973",
   "metadata": {},
   "outputs": [],
   "source": [
    "fixed_num_instances = len(VG_dataset)\n",
    "VG_dataset = VG_dataset.sample(n=fixed_num_instances, random_state=42)"
   ]
  },
  {
   "cell_type": "code",
   "execution_count": 30,
   "id": "6a03640d-32f5-4ab1-ae8b-2c2060f90399",
   "metadata": {},
   "outputs": [],
   "source": [
    "y =VG_dataset['Meta Score']"
   ]
  },
  {
   "cell_type": "code",
   "execution_count": 31,
   "id": "12fdff22-d3d1-413c-b4f1-5b5a4f0b4153",
   "metadata": {},
   "outputs": [],
   "source": [
    "X = VG_dataset.drop(['Meta Score'], axis=1)"
   ]
  },
  {
   "cell_type": "code",
   "execution_count": 32,
   "id": "25bc9dd7-4ffc-4d0b-8c74-7f0c0a63deef",
   "metadata": {},
   "outputs": [],
   "source": [
    "X = pd.DataFrame(X)"
   ]
  },
  {
   "cell_type": "code",
   "execution_count": 33,
   "id": "cb10cc60-7d1d-4fe5-b677-f3cbd20013d8",
   "metadata": {},
   "outputs": [],
   "source": [
    "X_train, X_test, y_train, y_test = train_test_split(X, y, test_size=0.2, random_state=42)"
   ]
  },
  {
   "cell_type": "code",
   "execution_count": 34,
   "id": "6edf796b-eb94-41fa-ad4c-2a6da09c7257",
   "metadata": {},
   "outputs": [],
   "source": [
    "param_grid = {\n",
    "    'n_estimators': [100, 200, 300],\n",
    "    'learning_rate': [0.1, 0.05, 0.01],\n",
    "    'max_depth': [3, 5, 7],\n",
    "    'min_samples_split': [10, 20, 30],\n",
    "    'min_samples_leaf': [5, 10, 15],\n",
    "    'subsample': [0.8, 0.9, 1.0]\n",
    "}"
   ]
  },
  {
   "cell_type": "code",
   "execution_count": 35,
   "id": "006e9ff1-38bc-4f34-a749-cbd22f052fbd",
   "metadata": {},
   "outputs": [],
   "source": [
    "gb_model = GridSearchCV(\n",
    "    estimator=GradientBoostingRegressor(),\n",
    "    param_grid=param_grid,\n",
    "    cv=5,               \n",
    "    scoring='neg_mean_squared_error', \n",
    "    n_jobs=-1           \n",
    ")"
   ]
  },
  {
   "cell_type": "code",
   "execution_count": 36,
   "id": "bf39e811-394d-49dd-b2da-ce2fb818ad27",
   "metadata": {},
   "outputs": [
    {
     "name": "stderr",
     "output_type": "stream",
     "text": [
      "C:\\Python\\Python310\\lib\\site-packages\\numpy\\ma\\core.py:2820: RuntimeWarning: invalid value encountered in cast\n",
      "  _data = np.array(data, dtype=dtype, copy=copy,\n"
     ]
    },
    {
     "name": "stdout",
     "output_type": "stream",
     "text": [
      "Run time: 375.51246523857117\n"
     ]
    }
   ],
   "source": [
    "st=time.time()\n",
    "gb_model.fit(X_train, y_train)\n",
    "et = time.time()\n",
    "elapsed_time = et - st\n",
    "print(f\"Run time: {elapsed_time}\")"
   ]
  },
  {
   "cell_type": "code",
   "execution_count": 37,
   "id": "7024df01-a898-4411-a345-e0ec9ea16130",
   "metadata": {},
   "outputs": [
    {
     "name": "stdout",
     "output_type": "stream",
     "text": [
      "Best Parameters: {'learning_rate': 0.05, 'max_depth': 7, 'min_samples_leaf': 5, 'min_samples_split': 10, 'n_estimators': 300, 'subsample': 0.9}\n"
     ]
    }
   ],
   "source": [
    "print(\"Best Parameters:\", gb_model.best_params_)"
   ]
  },
  {
   "cell_type": "code",
   "execution_count": 50,
   "id": "7924ba73-f6ea-4a71-983c-acfad2ca83c3",
   "metadata": {},
   "outputs": [],
   "source": [
    "y_pred_train = gb_model.predict(X_train)\n",
    "y_pred_test = gb_model.predict(X_test)"
   ]
  },
  {
   "cell_type": "code",
   "execution_count": 51,
   "id": "9508e122-a0e0-4f2b-a039-aeda441629eb",
   "metadata": {},
   "outputs": [],
   "source": [
    "min_value = min(min(y_test), min(y_pred))\n",
    "max_value = max(max(y_test), max(y_pred))"
   ]
  },
  {
   "cell_type": "code",
   "execution_count": 52,
   "id": "d1e0aeda-9988-44f4-86df-cbc8ca584b54",
   "metadata": {},
   "outputs": [
    {
     "data": {
      "text/plain": [
       "<matplotlib.lines._AxLine at 0x295d21bfac0>"
      ]
     },
     "execution_count": 52,
     "metadata": {},
     "output_type": "execute_result"
    },
    {
     "data": {
      "image/png": "[encoded data removed]",
      "text/plain": [
       "<Figure size 640x480 with 1 Axes>"
      ]
     },
     "metadata": {},
     "output_type": "display_data"
    }
   ],
   "source": [
    "p = sns.scatterplot(x=y_test, y=y_pred)\n",
    "plt.title(\"Gardient Boosting\")\n",
    "p.set_xlabel(\"Actual values\", fontsize=14)\n",
    "p.set_ylabel(\"Predicted values\", fontsize=14)\n",
    "plt.axline((min_value,min_value), (max_value, max_value), color='r', ls='--')"
   ]
  },
  {
   "cell_type": "code",
   "execution_count": 56,
   "id": "b281f431-e207-43ad-977b-ec1d808a7b92",
   "metadata": {},
   "outputs": [
    {
     "name": "stdout",
     "output_type": "stream",
     "text": [
      "MSE:  0.009994690361199415\n",
      "MAE:  0.0730118967230622\n",
      "R sqaure:  0.4437078694200116\n"
     ]
    }
   ],
   "source": [
    "MSE = mean_squared_error(y_test, y_pred_test)\n",
    "MAE = mean_absolute_error(y_test, y_pred_test)\n",
    "print(\"MSE: \", MSE)\n",
    "print(\"MAE: \", MAE )\n",
    "print(\"R sqaure: \",  r2_score(y_test, y_pred_test))"
   ]
  },
  {
   "cell_type": "code",
   "execution_count": 55,
   "id": "9a703223-c728-47a2-b0b1-08911dc11acf",
   "metadata": {},
   "outputs": [
    {
     "name": "stdout",
     "output_type": "stream",
     "text": [
      "Train Accuracy (R^2): 0.840886431945748\n",
      "Test Accuracy (R^2): 0.4437078694200116\n"
     ]
    }
   ],
   "source": [
    "train_accuracy = r2_score(y_train, y_pred_train)\n",
    "test_accuracy = r2_score(y_test, y_pred_test)\n",
    "\n",
    "print(\"Train Accuracy (R^2):\", train_accuracy)\n",
    "print(\"Test Accuracy (R^2):\", test_accuracy)"
   ]
  }
 ],
 "metadata": {
  "kernelspec": {
   "display_name": "Python 3 (ipykernel)",
   "language": "python",
   "name": "python3"
  },
  "language_info": {
   "codemirror_mode": {
    "name": "ipython",
    "version": 3
   },
   "file_extension": ".py",
   "mimetype": "text/x-python",
   "name": "python",
   "nbconvert_exporter": "python",
   "pygments_lexer": "ipython3",
   "version": "3.10.4"
  }
 },
 "nbformat": 4,
 "nbformat_minor": 5
}
