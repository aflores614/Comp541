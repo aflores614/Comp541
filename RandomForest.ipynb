{
 "cells": [
  {
   "cell_type": "code",
   "execution_count": 1,
   "id": "6476b3ea-8168-463d-ac10-2460d45fbcf1",
   "metadata": {},
   "outputs": [],
   "source": [
    "import pandas as pd\n",
    "import matplotlib.pyplot as plt\n",
    "import seaborn as sns\n",
    "import numpy as np\n",
    "from sklearn.metrics import mean_absolute_error, mean_squared_error, r2_score\n",
    "from sklearn.preprocessing import MinMaxScaler\n",
    "import time\n",
    "from sklearn import metrics, tree\n",
    "\n",
    "from sklearn.ensemble import RandomForestRegressor\n",
    "from sklearn.model_selection import train_test_split\n",
    "from sklearn.model_selection import GridSearchCV"
   ]
  },
  {
   "cell_type": "code",
   "execution_count": 2,
   "id": "ad2d0081-9d9e-4d77-8085-44fc3371fbff",
   "metadata": {},
   "outputs": [],
   "source": [
    "df_1 = pd.read_csv(r\"C:\\Users\\flore\\OneDrive\\Documents\\CSUN\\Fall24\\COMP_541\\Project\\VideoGame\\games.csv\")"
   ]
  },
  {
   "cell_type": "code",
   "execution_count": 3,
   "id": "892f28c6-e5ed-402f-9b14-27e40be8b867",
   "metadata": {},
   "outputs": [],
   "source": [
    "df_2 = pd.read_csv(r\"C:\\Users\\flore\\OneDrive\\Documents\\CSUN\\Fall24\\COMP_541\\Project\\VideoGame\\all_games.csv\")"
   ]
  },
  {
   "cell_type": "code",
   "execution_count": 4,
   "id": "4928304d-95b1-4568-a3b2-d69e02a5e507",
   "metadata": {},
   "outputs": [],
   "source": [
    "df_1.columns = ['Name','Release date','Estimated Owners','Peak CCU','Required age','Price','Unknown1',\n",
    "              'Unknown2','About the game','Supported languages','Full audio languages','Reviews','Header Image','Website',\n",
    "              'Support url','Support email','Windows','Mac', 'Linux','User score','Metacritic url'\n",
    "              ,'Positive','Negative','Score rank','Achievements','Recommendations','Unknown3','Notes',\n",
    "              'Average playtime forever','Average playtime two weeks','Median playtime forever','Median playtime two weeks',\n",
    "              'Developers','Publishers','Categories','Genres','Tags','Screenshots','Movies']"
   ]
  },
  {
   "cell_type": "code",
   "execution_count": 5,
   "id": "7b7aea31-2456-4b2c-88bf-87bfb72504db",
   "metadata": {},
   "outputs": [],
   "source": [
    "df_2.columns = ['Name','Platform','Release Date','Summary','Meta Score','User Review']"
   ]
  },
  {
   "cell_type": "code",
   "execution_count": 6,
   "id": "b1d8dc3a-6d48-4ce8-84aa-afa502743cc2",
   "metadata": {},
   "outputs": [],
   "source": [
    "df_1 = df_1.drop(['Developers','User score','Average playtime forever','Average playtime two weeks','Median playtime forever','Median playtime two weeks','Recommendations','Estimated Owners','About the game','Reviews','Unknown1','Unknown2','Unknown3', 'Supported languages','Full audio languages','Header Image' ,'Website', 'Support url', 'Support email', 'Notes', 'Metacritic url', 'Achievements', 'Screenshots', 'Movies','Publishers','Categories','Tags'], axis=1)"
   ]
  },
  {
   "cell_type": "code",
   "execution_count": 7,
   "id": "adbfae0f-4b6a-4d7e-80d1-c42d8166fa63",
   "metadata": {},
   "outputs": [],
   "source": [
    "df_2 = df_2.drop(['Summary','Release Date','Platform','User Review'], axis=1)"
   ]
  },
  {
   "cell_type": "code",
   "execution_count": 8,
   "id": "56d928d4-7f69-4f7a-9a7b-ec700b8a1cae",
   "metadata": {},
   "outputs": [],
   "source": [
    "VG_dataset = pd.merge(df_1, df_2, on='Name', how='inner')"
   ]
  },
  {
   "cell_type": "code",
   "execution_count": 9,
   "id": "125e4bf6-f3bf-4760-a14d-b31e8c476692",
   "metadata": {},
   "outputs": [
    {
     "name": "stdout",
     "output_type": "stream",
     "text": [
      "Number of matching instances in 'Name': 5860\n"
     ]
    }
   ],
   "source": [
    "len_VG_dataset = len(VG_dataset)\n",
    "print(f\"Number of matching instances in 'Name': {len_VG_dataset}\")"
   ]
  },
  {
   "cell_type": "code",
   "execution_count": 10,
   "id": "6c2660f4-c5df-4692-bbd7-6ecb2aac9cc4",
   "metadata": {},
   "outputs": [
    {
     "name": "stdout",
     "output_type": "stream",
     "text": [
      "Name            0\n",
      "Release date    0\n",
      "Peak CCU        0\n",
      "Required age    0\n",
      "Price           0\n",
      "Windows         0\n",
      "Mac             0\n",
      "Linux           0\n",
      "Positive        0\n",
      "Negative        0\n",
      "Score rank      0\n",
      "Genres          3\n",
      "Meta Score      0\n",
      "dtype: int64\n"
     ]
    }
   ],
   "source": [
    "print(VG_dataset.isna().sum())"
   ]
  },
  {
   "cell_type": "code",
   "execution_count": 11,
   "id": "a585b027-8767-4989-b81b-06d0404624cd",
   "metadata": {},
   "outputs": [],
   "source": [
    "VG_dataset = VG_dataset.dropna()"
   ]
  },
  {
   "cell_type": "code",
   "execution_count": 12,
   "id": "b129dd88-e948-4426-a66a-02cd5370fbd6",
   "metadata": {},
   "outputs": [],
   "source": [
    "VG_dataset = VG_dataset.drop(['Name'], axis = 1)"
   ]
  },
  {
   "cell_type": "code",
   "execution_count": 13,
   "id": "7290f123-64c0-46f5-951b-c7145f3c6e0a",
   "metadata": {},
   "outputs": [
    {
     "data": {
      "text/plain": [
       "(5857, 12)"
      ]
     },
     "execution_count": 13,
     "metadata": {},
     "output_type": "execute_result"
    }
   ],
   "source": [
    "VG_dataset.shape"
   ]
  },
  {
   "cell_type": "code",
   "execution_count": 14,
   "id": "85f7f072-f32b-4e62-873b-5f4c83aa3148",
   "metadata": {
    "scrolled": true
   },
   "outputs": [],
   "source": [
    "VG_dataset['Release date'] = VG_dataset['Release date'].str.extract(r'(\\d{4})')\n",
    "VG_dataset['Release date'] = pd.to_numeric(VG_dataset['Release date'], errors='coerce')\n",
    "VG_dataset = VG_dataset[VG_dataset['Release date'] >= 2014]\n"
   ]
  },
  {
   "cell_type": "code",
   "execution_count": 15,
   "id": "d609c803-e3cc-47f7-8160-e5c71d9a904f",
   "metadata": {},
   "outputs": [
    {
     "name": "stdout",
     "output_type": "stream",
     "text": [
      "Number of Games instances release after 2014': 4573\n"
     ]
    }
   ],
   "source": [
    "len_VG_filter_by_year = len(VG_dataset)\n",
    "print(f\"Number of Games instances release after 2014': {len_VG_filter_by_year}\")"
   ]
  },
  {
   "cell_type": "code",
   "execution_count": 16,
   "id": "cd2ad101-0037-4122-812b-35bb06549679",
   "metadata": {},
   "outputs": [],
   "source": [
    "VG_dataset['Genres'] = VG_dataset['Genres'].str.split(',')\n",
    "unique_tags = set(tag for sublist in VG_dataset['Genres'] for tag in sublist)\n",
    "one_hot_encoded_genres = VG_dataset['Genres'].str.join('|').str.get_dummies()\n",
    "VG_dataset = pd.concat([VG_dataset, one_hot_encoded_genres], axis=1)\n",
    "VG_dataset.drop('Genres', axis=1, inplace=True) #don't need 'Genres' feature any more"
   ]
  },
  {
   "cell_type": "code",
   "execution_count": 17,
   "id": "a24597e2-36ca-4240-a65e-07f0afbdc5e2",
   "metadata": {},
   "outputs": [],
   "source": [
    "Q1 = VG_dataset['Negative'].quantile(0.25)\n",
    "Q3 = VG_dataset['Negative'].quantile(0.75)\n",
    "IQR = Q3 - Q1\n",
    "lower_bound = Q1 - 1.5 * IQR\n",
    "upper_bound = Q3 + 1.5 * IQR\n",
    "VG_outliers_filter = VG_dataset[(VG_dataset['Negative'] >= lower_bound) & (VG_dataset['Negative'] <= upper_bound)]"
   ]
  },
  {
   "cell_type": "code",
   "execution_count": 18,
   "id": "e9d33a26-cd42-4388-80a1-ca4e456b06cb",
   "metadata": {},
   "outputs": [
    {
     "name": "stdout",
     "output_type": "stream",
     "text": [
      "Lower Bound: -6519.0\n",
      "Upper Bound: 11465.0\n",
      "Total Number of Outliers: 693\n"
     ]
    }
   ],
   "source": [
    "total_outliers = len(VG_dataset) - len(VG_outliers_filter)\n",
    "print(f\"Lower Bound: {lower_bound}\")\n",
    "print(f\"Upper Bound: {upper_bound}\")\n",
    "print(f\"Total Number of Outliers: {total_outliers}\")"
   ]
  },
  {
   "cell_type": "code",
   "execution_count": 19,
   "id": "d94fcaa7-aba4-4c39-be0c-f5c73f2eb52f",
   "metadata": {},
   "outputs": [
    {
     "data": {
      "image/png": "[encoded data removed]",
      "text/plain": [
       "<Figure size 1000x200 with 1 Axes>"
      ]
     },
     "metadata": {},
     "output_type": "display_data"
    }
   ],
   "source": [
    "plt.figure(figsize=(10, 2))\n",
    "plt.title(\"Negative Values on Number Line\")\n",
    "plt.axhline(0, color='black', lw=0.8)  \n",
    "plt.text(0, 0.1, f'Number of Outliers: {total_outliers}', fontsize=12, ha='center', color='black')\n",
    "plt.axvline(upper_bound, color='green', linestyle='--', label='Upper Bound')\n",
    "plt.scatter(VG_dataset['Negative'], np.zeros(len(VG_dataset)), color='blue', label='Negative Values', s=10)\n",
    "plt.xlim(VG_dataset['Negative'].min() - 100, VG_dataset['Negative'].max()+10000)  # x-axis limits\n",
    "plt.yticks([])  \n",
    "plt.xlabel(\"Negative Values\")\n",
    "plt.legend()\n",
    "plt.grid(False)\n",
    "plt.show()"
   ]
  },
  {
   "cell_type": "code",
   "execution_count": 20,
   "id": "d641ddf8-bae0-4013-8d58-ec90a3501634",
   "metadata": {},
   "outputs": [],
   "source": [
    "VG_dataset = VG_outliers_filter"
   ]
  },
  {
   "cell_type": "code",
   "execution_count": 21,
   "id": "1fd77814-d1f4-4a70-8850-54d3cbdcc95f",
   "metadata": {},
   "outputs": [],
   "source": [
    "scaler = MinMaxScaler()\n",
    "normalization_data = scaler.fit_transform(VG_dataset[['Release date', 'Peak CCU','Required age','Price', 'Positive', 'Negative','Score rank','Meta Score']])\n",
    "VG_dataset[['Release date', 'Peak CCU','Required age','Price', 'Positive', 'Negative', 'Score rank','Meta Score']] = normalization_data"
   ]
  },
  {
   "cell_type": "code",
   "execution_count": 22,
   "id": "bd04f0a7-59d1-4251-aee7-374395b60256",
   "metadata": {},
   "outputs": [],
   "source": [
    "genre_columns = VG_dataset.columns[11:]\n",
    "threshold = 0.10 * len(VG_dataset)\n",
    "filtered_genres = [col for col in genre_columns if VG_dataset[col].sum() >= threshold]\n",
    "columns_to_keep = VG_dataset.columns[1:11].tolist() + filtered_genres\n",
    "VG_dataset = VG_dataset[columns_to_keep]"
   ]
  },
  {
   "cell_type": "code",
   "execution_count": 23,
   "id": "7267612e-a5c4-423d-98c7-375c2c69c108",
   "metadata": {},
   "outputs": [
    {
     "name": "stdout",
     "output_type": "stream",
     "text": [
      "[ True]\n"
     ]
    }
   ],
   "source": [
    "unique_windows = VG_dataset['Windows'].unique()\n",
    "print(unique_windows)"
   ]
  },
  {
   "cell_type": "code",
   "execution_count": 24,
   "id": "e361a18c-dd76-447e-b9a7-2b059bc41c76",
   "metadata": {},
   "outputs": [],
   "source": [
    "# Remove the feature 'Window' because all the instance has the same value \n",
    "# redundant feature \n",
    "VG_dataset= VG_dataset.drop(['Windows'], axis=1)"
   ]
  },
  {
   "cell_type": "code",
   "execution_count": 25,
   "id": "d3ebd784-a1e9-4aa4-ab26-9b2e3ca45056",
   "metadata": {},
   "outputs": [
    {
     "name": "stdout",
     "output_type": "stream",
     "text": [
      "Correlation with 'Meta Score':\n",
      "Peak CCU        0.101408\n",
      "Required age   -0.084234\n",
      "Price           0.107857\n",
      "Mac             0.091121\n",
      "Linux           0.085801\n",
      "Positive        0.004695\n",
      "Negative        0.271781\n",
      "Score rank      0.017465\n",
      "Meta Score      1.000000\n",
      "Action         -0.035465\n",
      "Adventure       0.008087\n",
      "Casual          0.001627\n",
      "Indie           0.046899\n",
      "RPG             0.041915\n",
      "Simulation     -0.016598\n",
      "Strategy        0.012977\n",
      "Name: Meta Score, dtype: float64\n"
     ]
    }
   ],
   "source": [
    "correlation_matrix = VG_dataset.corr()\n",
    "meta_score_correlation = correlation_matrix['Meta Score']\n",
    "print(\"Correlation with 'Meta Score':\")\n",
    "print(meta_score_correlation)"
   ]
  },
  {
   "cell_type": "code",
   "execution_count": 26,
   "id": "bda1ac6b-4444-4093-950c-e5e8d8cef886",
   "metadata": {},
   "outputs": [],
   "source": [
    "low_correlation_features = meta_score_correlation[abs(meta_score_correlation) < 0.015].index.tolist()\n",
    "VG_dataset.drop(columns=low_correlation_features, inplace=True)"
   ]
  },
  {
   "cell_type": "code",
   "execution_count": 27,
   "id": "39ae7ab4-3ba5-4885-907a-47b094e0fb87",
   "metadata": {},
   "outputs": [
    {
     "data": {
      "text/html": [
       "<div>\n",
       "<style scoped>\n",
       "    .dataframe tbody tr th:only-of-type {\n",
       "        vertical-align: middle;\n",
       "    }\n",
       "\n",
       "    .dataframe tbody tr th {\n",
       "        vertical-align: top;\n",
       "    }\n",
       "\n",
       "    .dataframe thead th {\n",
       "        text-align: right;\n",
       "    }\n",
       "</style>\n",
       "<table border=\"1\" class=\"dataframe\">\n",
       "  <thead>\n",
       "    <tr style=\"text-align: right;\">\n",
       "      <th></th>\n",
       "      <th>Peak CCU</th>\n",
       "      <th>Required age</th>\n",
       "      <th>Price</th>\n",
       "      <th>Mac</th>\n",
       "      <th>Linux</th>\n",
       "      <th>Negative</th>\n",
       "      <th>Score rank</th>\n",
       "      <th>Meta Score</th>\n",
       "      <th>Action</th>\n",
       "      <th>Indie</th>\n",
       "      <th>RPG</th>\n",
       "      <th>Simulation</th>\n",
       "    </tr>\n",
       "  </thead>\n",
       "  <tbody>\n",
       "    <tr>\n",
       "      <th>11</th>\n",
       "      <td>0.000070</td>\n",
       "      <td>0.000000</td>\n",
       "      <td>0.074954</td>\n",
       "      <td>False</td>\n",
       "      <td>False</td>\n",
       "      <td>0.018055</td>\n",
       "      <td>0.007046</td>\n",
       "      <td>0.657534</td>\n",
       "      <td>1</td>\n",
       "      <td>1</td>\n",
       "      <td>1</td>\n",
       "      <td>0</td>\n",
       "    </tr>\n",
       "    <tr>\n",
       "      <th>12</th>\n",
       "      <td>0.000279</td>\n",
       "      <td>0.000000</td>\n",
       "      <td>0.004950</td>\n",
       "      <td>False</td>\n",
       "      <td>False</td>\n",
       "      <td>0.181683</td>\n",
       "      <td>0.034584</td>\n",
       "      <td>0.821918</td>\n",
       "      <td>1</td>\n",
       "      <td>1</td>\n",
       "      <td>0</td>\n",
       "      <td>0</td>\n",
       "    </tr>\n",
       "    <tr>\n",
       "      <th>13</th>\n",
       "      <td>0.000279</td>\n",
       "      <td>0.000000</td>\n",
       "      <td>0.004950</td>\n",
       "      <td>False</td>\n",
       "      <td>False</td>\n",
       "      <td>0.181683</td>\n",
       "      <td>0.034584</td>\n",
       "      <td>0.739726</td>\n",
       "      <td>1</td>\n",
       "      <td>1</td>\n",
       "      <td>0</td>\n",
       "      <td>0</td>\n",
       "    </tr>\n",
       "    <tr>\n",
       "      <th>16</th>\n",
       "      <td>0.000070</td>\n",
       "      <td>0.000000</td>\n",
       "      <td>0.124956</td>\n",
       "      <td>False</td>\n",
       "      <td>False</td>\n",
       "      <td>0.036633</td>\n",
       "      <td>0.010569</td>\n",
       "      <td>0.397260</td>\n",
       "      <td>0</td>\n",
       "      <td>1</td>\n",
       "      <td>0</td>\n",
       "      <td>0</td>\n",
       "    </tr>\n",
       "    <tr>\n",
       "      <th>17</th>\n",
       "      <td>0.003175</td>\n",
       "      <td>0.722222</td>\n",
       "      <td>0.199960</td>\n",
       "      <td>False</td>\n",
       "      <td>False</td>\n",
       "      <td>0.184300</td>\n",
       "      <td>0.008988</td>\n",
       "      <td>0.794521</td>\n",
       "      <td>0</td>\n",
       "      <td>0</td>\n",
       "      <td>1</td>\n",
       "      <td>0</td>\n",
       "    </tr>\n",
       "  </tbody>\n",
       "</table>\n",
       "</div>"
      ],
      "text/plain": [
       "    Peak CCU  Required age     Price    Mac  Linux  Negative  Score rank  \\\n",
       "11  0.000070      0.000000  0.074954  False  False  0.018055    0.007046   \n",
       "12  0.000279      0.000000  0.004950  False  False  0.181683    0.034584   \n",
       "13  0.000279      0.000000  0.004950  False  False  0.181683    0.034584   \n",
       "16  0.000070      0.000000  0.124956  False  False  0.036633    0.010569   \n",
       "17  0.003175      0.722222  0.199960  False  False  0.184300    0.008988   \n",
       "\n",
       "    Meta Score  Action  Indie  RPG  Simulation  \n",
       "11    0.657534       1      1    1           0  \n",
       "12    0.821918       1      1    0           0  \n",
       "13    0.739726       1      1    0           0  \n",
       "16    0.397260       0      1    0           0  \n",
       "17    0.794521       0      0    1           0  "
      ]
     },
     "execution_count": 27,
     "metadata": {},
     "output_type": "execute_result"
    }
   ],
   "source": [
    "VG_dataset.head()"
   ]
  },
  {
   "cell_type": "code",
   "execution_count": 28,
   "id": "00530bc6-4c20-4230-9342-57fe84f9820a",
   "metadata": {},
   "outputs": [
    {
     "data": {
      "text/plain": [
       "(3880, 12)"
      ]
     },
     "execution_count": 28,
     "metadata": {},
     "output_type": "execute_result"
    }
   ],
   "source": [
    "VG_dataset.shape"
   ]
  },
  {
   "cell_type": "code",
   "execution_count": 29,
   "id": "2920848b-382b-4158-a280-8a46894a15bf",
   "metadata": {},
   "outputs": [],
   "source": [
    "fixed_num_instances = len(VG_dataset)\n",
    "VG_dataset = VG_dataset.sample(n=fixed_num_instances, random_state=42)"
   ]
  },
  {
   "cell_type": "code",
   "execution_count": 30,
   "id": "4c99ccda-dba8-497e-aba9-c807eab12ee7",
   "metadata": {},
   "outputs": [],
   "source": [
    "y =VG_dataset['Meta Score']"
   ]
  },
  {
   "cell_type": "code",
   "execution_count": 31,
   "id": "d47a1d84-55fa-4eb8-ba37-b008208b6f85",
   "metadata": {},
   "outputs": [],
   "source": [
    "X = VG_dataset.drop(['Meta Score'], axis=1)"
   ]
  },
  {
   "cell_type": "code",
   "execution_count": 32,
   "id": "cae09a7b-3499-4fbd-8c33-1e2fed71ddb5",
   "metadata": {},
   "outputs": [],
   "source": [
    "X = pd.DataFrame(X)"
   ]
  },
  {
   "cell_type": "code",
   "execution_count": 33,
   "id": "f2c3eef8-eb32-4911-9450-bffb498c111c",
   "metadata": {},
   "outputs": [],
   "source": [
    "X_train, X_test, y_train, y_test = train_test_split(X, y, test_size=0.2, random_state=42)"
   ]
  },
  {
   "cell_type": "code",
   "execution_count": 34,
   "id": "b8e7c66a-686a-4a79-aeeb-526e273f1add",
   "metadata": {},
   "outputs": [],
   "source": [
    "param_grid = {\n",
    "    'n_estimators': [100, 200, 300],       \n",
    "    'max_depth': [2, 5, 10, 15, 20, 30],        \n",
    "    'min_samples_split': [2, 5, 10],       \n",
    "    'min_samples_leaf': [1, 2, 4],          \n",
    "    'max_features': ['auto', 'sqrt'],       \n",
    "}"
   ]
  },
  {
   "cell_type": "code",
   "execution_count": 35,
   "id": "ed2edf04-e79b-49e9-8248-628fb84ceff7",
   "metadata": {},
   "outputs": [],
   "source": [
    "rfModel = GridSearchCV(\n",
    "    estimator=RandomForestRegressor(),\n",
    "    param_grid=param_grid,\n",
    "    cv=5,\n",
    "    scoring='neg_mean_squared_error',  \n",
    "    verbose=2,\n",
    "    n_jobs=-1\n",
    ")"
   ]
  },
  {
   "cell_type": "code",
   "execution_count": 36,
   "id": "c01c7cc3-4d4d-4a39-9ee1-c7dab25fe42f",
   "metadata": {},
   "outputs": [
    {
     "name": "stdout",
     "output_type": "stream",
     "text": [
      "Fitting 5 folds for each of 324 candidates, totalling 1620 fits\n"
     ]
    },
    {
     "name": "stderr",
     "output_type": "stream",
     "text": [
      "C:\\Python\\Python310\\lib\\site-packages\\sklearn\\model_selection\\_validation.py:540: FitFailedWarning: \n",
      "810 fits failed out of a total of 1620.\n",
      "The score on these train-test partitions for these parameters will be set to nan.\n",
      "If these failures are not expected, you can try to debug them by setting error_score='raise'.\n",
      "\n",
      "Below are more details about the failures:\n",
      "--------------------------------------------------------------------------------\n",
      "565 fits failed with the following error:\n",
      "Traceback (most recent call last):\n",
      "  File \"C:\\Python\\Python310\\lib\\site-packages\\sklearn\\model_selection\\_validation.py\", line 888, in _fit_and_score\n",
      "    estimator.fit(X_train, y_train, **fit_params)\n",
      "  File \"C:\\Python\\Python310\\lib\\site-packages\\sklearn\\base.py\", line 1466, in wrapper\n",
      "    estimator._validate_params()\n",
      "  File \"C:\\Python\\Python310\\lib\\site-packages\\sklearn\\base.py\", line 666, in _validate_params\n",
      "    validate_parameter_constraints(\n",
      "  File \"C:\\Python\\Python310\\lib\\site-packages\\sklearn\\utils\\_param_validation.py\", line 95, in validate_parameter_constraints\n",
      "    raise InvalidParameterError(\n",
      "sklearn.utils._param_validation.InvalidParameterError: The 'max_features' parameter of RandomForestRegressor must be an int in the range [1, inf), a float in the range (0.0, 1.0], a str among {'log2', 'sqrt'} or None. Got 'auto' instead.\n",
      "\n",
      "--------------------------------------------------------------------------------\n",
      "245 fits failed with the following error:\n",
      "Traceback (most recent call last):\n",
      "  File \"C:\\Python\\Python310\\lib\\site-packages\\sklearn\\model_selection\\_validation.py\", line 888, in _fit_and_score\n",
      "    estimator.fit(X_train, y_train, **fit_params)\n",
      "  File \"C:\\Python\\Python310\\lib\\site-packages\\sklearn\\base.py\", line 1466, in wrapper\n",
      "    estimator._validate_params()\n",
      "  File \"C:\\Python\\Python310\\lib\\site-packages\\sklearn\\base.py\", line 666, in _validate_params\n",
      "    validate_parameter_constraints(\n",
      "  File \"C:\\Python\\Python310\\lib\\site-packages\\sklearn\\utils\\_param_validation.py\", line 95, in validate_parameter_constraints\n",
      "    raise InvalidParameterError(\n",
      "sklearn.utils._param_validation.InvalidParameterError: The 'max_features' parameter of RandomForestRegressor must be an int in the range [1, inf), a float in the range (0.0, 1.0], a str among {'sqrt', 'log2'} or None. Got 'auto' instead.\n",
      "\n",
      "  warnings.warn(some_fits_failed_message, FitFailedWarning)\n",
      "C:\\Python\\Python310\\lib\\site-packages\\sklearn\\model_selection\\_search.py:1103: UserWarning: One or more of the test scores are non-finite: [        nan         nan         nan         nan         nan         nan\n",
      "         nan         nan         nan         nan         nan         nan\n",
      "         nan         nan         nan         nan         nan         nan\n",
      "         nan         nan         nan         nan         nan         nan\n",
      "         nan         nan         nan -0.01662854 -0.01656841 -0.01660237\n",
      " -0.01668623 -0.0165987  -0.01659661 -0.01661986 -0.0166006  -0.01662827\n",
      " -0.01665852 -0.01657113 -0.01659426 -0.01662039 -0.01662175 -0.0165711\n",
      " -0.01659676 -0.01659502 -0.01658768 -0.01661929 -0.01660308 -0.01658183\n",
      " -0.01660542 -0.01659206 -0.01660279 -0.01660737 -0.01661806 -0.01657361\n",
      "         nan         nan         nan         nan         nan         nan\n",
      "         nan         nan         nan         nan         nan         nan\n",
      "         nan         nan         nan         nan         nan         nan\n",
      "         nan         nan         nan         nan         nan         nan\n",
      "         nan         nan         nan -0.01417592 -0.01417232 -0.01412807\n",
      " -0.01417722 -0.01416151 -0.01415908 -0.01420919 -0.01418048 -0.01418567\n",
      " -0.01410078 -0.01418778 -0.01415158 -0.01415917 -0.01410982 -0.01411188\n",
      " -0.01414681 -0.01416922 -0.01419746 -0.01421358 -0.01421159 -0.01419101\n",
      " -0.01421766 -0.01421666 -0.01422823 -0.01419392 -0.0141553  -0.01418236\n",
      "         nan         nan         nan         nan         nan         nan\n",
      "         nan         nan         nan         nan         nan         nan\n",
      "         nan         nan         nan         nan         nan         nan\n",
      "         nan         nan         nan         nan         nan         nan\n",
      "         nan         nan         nan -0.01098685 -0.01098847 -0.01097982\n",
      " -0.01116849 -0.01123719 -0.01118459 -0.01153082 -0.01151568 -0.0114992\n",
      " -0.01133492 -0.01127488 -0.0112803  -0.01128743 -0.01135756 -0.01133063\n",
      " -0.0116422  -0.0116101  -0.01159769 -0.01172696 -0.01177166 -0.01180224\n",
      " -0.01184161 -0.01184109 -0.01181149 -0.01192197 -0.01183734 -0.0118583\n",
      "         nan         nan         nan         nan         nan         nan\n",
      "         nan         nan         nan         nan         nan         nan\n",
      "         nan         nan         nan         nan         nan         nan\n",
      "         nan         nan         nan         nan         nan         nan\n",
      "         nan         nan         nan -0.01001405 -0.01003016 -0.00996913\n",
      " -0.01035371 -0.01031339 -0.01028019 -0.01086837 -0.01085893 -0.0108172\n",
      " -0.01056511 -0.01050718 -0.01054043 -0.01068397 -0.01065343 -0.01064893\n",
      " -0.01107242 -0.01107313 -0.01105853 -0.01140011 -0.01139349 -0.01139472\n",
      " -0.0113724  -0.01136262 -0.01136164 -0.01149184 -0.01144279 -0.0114472\n",
      "         nan         nan         nan         nan         nan         nan\n",
      "         nan         nan         nan         nan         nan         nan\n",
      "         nan         nan         nan         nan         nan         nan\n",
      "         nan         nan         nan         nan         nan         nan\n",
      "         nan         nan         nan -0.01003075 -0.01001771 -0.00998005\n",
      " -0.01028417 -0.01021103 -0.01019934 -0.01081899 -0.01081032 -0.01072551\n",
      " -0.01052506 -0.01052377 -0.01047848 -0.01058554 -0.01059474 -0.01053401\n",
      " -0.01106236 -0.01104591 -0.01100086 -0.01137959 -0.01135922 -0.01136953\n",
      " -0.01142079 -0.01135462 -0.0113405  -0.01144033 -0.0114185  -0.01142934\n",
      "         nan         nan         nan         nan         nan         nan\n",
      "         nan         nan         nan         nan         nan         nan\n",
      "         nan         nan         nan         nan         nan         nan\n",
      "         nan         nan         nan         nan         nan         nan\n",
      "         nan         nan         nan -0.01005748 -0.0100178  -0.00997352\n",
      " -0.01027218 -0.01021565 -0.01017525 -0.01078084 -0.01077641 -0.0107625\n",
      " -0.01055439 -0.01049799 -0.01048692 -0.01056594 -0.01059592 -0.01052128\n",
      " -0.01102468 -0.0109941  -0.01099852 -0.01144445 -0.01137612 -0.01136281\n",
      " -0.01143476 -0.01133107 -0.01132926 -0.01146576 -0.01138976 -0.0114105 ]\n",
      "  warnings.warn(\n"
     ]
    },
    {
     "name": "stdout",
     "output_type": "stream",
     "text": [
      "Run time: 59.94087553024292\n"
     ]
    }
   ],
   "source": [
    "st=time.time()\n",
    "rfModel.fit(X_train, y_train)\n",
    "et = time.time()\n",
    "elapsed_time = et - st\n",
    "print(f\"Run time: {elapsed_time}\")"
   ]
  },
  {
   "cell_type": "code",
   "execution_count": 37,
   "id": "61998067-57e4-4480-b069-861103ca5e64",
   "metadata": {},
   "outputs": [
    {
     "name": "stdout",
     "output_type": "stream",
     "text": [
      "Best Parameters: {'max_depth': 15, 'max_features': 'sqrt', 'min_samples_leaf': 1, 'min_samples_split': 2, 'n_estimators': 300}\n"
     ]
    }
   ],
   "source": [
    "print(\"Best Parameters:\", rfModel.best_params_)"
   ]
  },
  {
   "cell_type": "code",
   "execution_count": 38,
   "id": "0455edcb-5ace-4340-adf3-6d521e8481ab",
   "metadata": {},
   "outputs": [],
   "source": [
    "y_pred_train = rfModel.predict(X_train)\n",
    "y_pred_test = rfModel.predict(X_test)"
   ]
  },
  {
   "cell_type": "code",
   "execution_count": 39,
   "id": "d6c731dc-aa51-4359-9842-e8da6a604fb9",
   "metadata": {},
   "outputs": [
    {
     "name": "stdout",
     "output_type": "stream",
     "text": [
      "0.1506849315068493 0.9315068493150686\n"
     ]
    }
   ],
   "source": [
    "min_value = min(min(y_test), min(y_pred_test))\n",
    "max_value = max(max(y_test), max(y_pred_test))\n",
    "print(min_value, max_value)"
   ]
  },
  {
   "cell_type": "code",
   "execution_count": 40,
   "id": "2ae72d27-f914-48f2-b471-0192512f4c4d",
   "metadata": {},
   "outputs": [
    {
     "data": {
      "text/plain": [
       "<matplotlib.lines._AxLine at 0x1df210368c0>"
      ]
     },
     "execution_count": 40,
     "metadata": {},
     "output_type": "execute_result"
    },
    {
     "data": {
      "image/png": "[encoded data removed]",
      "text/plain": [
       "<Figure size 640x480 with 1 Axes>"
      ]
     },
     "metadata": {},
     "output_type": "display_data"
    }
   ],
   "source": [
    "p = sns.scatterplot(x=y_test, y=y_pred_test)\n",
    "plt.title(\"Random Forest Regressor\")\n",
    "p.set_xlabel(\"Actual values\", fontsize=14)\n",
    "p.set_ylabel(\"Predicted values\", fontsize=14)\n",
    "plt.axline((min_value,min_value), (max_value, max_value), color='r', ls='--')"
   ]
  },
  {
   "cell_type": "code",
   "execution_count": 41,
   "id": "c078e06c-61f9-4ec5-a0a6-33bd2d6e0c29",
   "metadata": {},
   "outputs": [
    {
     "name": "stdout",
     "output_type": "stream",
     "text": [
      "MSE  :  0.00980128271698501\n",
      "MAE  :  0.07241396453743816\n",
      "R_srq:  0.45447270020338126\n"
     ]
    }
   ],
   "source": [
    "print(\"MSE  : \", metrics.mean_squared_error(y_test, y_pred_test))\n",
    "print(\"MAE  : \", metrics.mean_absolute_error(y_test, y_pred_test))\n",
    "print(\"R_srq: \", metrics. r2_score(y_test, y_pred_test))"
   ]
  },
  {
   "cell_type": "code",
   "execution_count": 42,
   "id": "ba16fdd9-37c9-4548-bdbf-e91341040923",
   "metadata": {},
   "outputs": [
    {
     "name": "stdout",
     "output_type": "stream",
     "text": [
      "Train Accuracy (R^2): 0.8625427276991208\n",
      "Test Accuracy (R^2): 0.45447270020338126\n"
     ]
    }
   ],
   "source": [
    "train_accuracy = r2_score(y_train, y_pred_train)\n",
    "test_accuracy = r2_score(y_test, y_pred_test)\n",
    "\n",
    "print(\"Train Accuracy (R^2):\", train_accuracy)\n",
    "print(\"Test Accuracy (R^2):\", test_accuracy)"
   ]
  }
 ],
 "metadata": {
  "kernelspec": {
   "display_name": "Python 3 (ipykernel)",
   "language": "python",
   "name": "python3"
  },
  "language_info": {
   "codemirror_mode": {
    "name": "ipython",
    "version": 3
   },
   "file_extension": ".py",
   "mimetype": "text/x-python",
   "name": "python",
   "nbconvert_exporter": "python",
   "pygments_lexer": "ipython3",
   "version": "3.10.4"
  }
 },
 "nbformat": 4,
 "nbformat_minor": 5
}
