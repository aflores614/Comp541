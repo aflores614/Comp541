{
 "cells": [
  {
   "cell_type": "code",
   "execution_count": 1,
   "id": "4ad50d7a-e9be-4154-9743-cf4d051ee8d4",
   "metadata": {},
   "outputs": [],
   "source": [
    "import time\n",
    "from sklearn.neighbors import KNeighborsRegressor\n",
    "import pandas as pd\n",
    "import numpy as np\n",
    "from sklearn.preprocessing import MinMaxScaler\n",
    "from sklearn.preprocessing import StandardScaler\n",
    "from sklearn.datasets import make_regression\n",
    "from sklearn.metrics import mean_absolute_error, mean_squared_error, r2_score\n",
    "# Import packages for visualization of results\n",
    "import seaborn as sns\n",
    "import matplotlib.pyplot as plt\n",
    "from sklearn import preprocessing\n",
    "from mlxtend.plotting import plot_decision_regions\n",
    "from sklearn.model_selection import GridSearchCV\n",
    "# Iport packages for evaluation\n",
    "from sklearn.model_selection import train_test_split\n",
    "from sklearn import metrics"
   ]
  },
  {
   "cell_type": "code",
   "execution_count": 2,
   "id": "771a9eb9-82d5-4aaf-8260-2eccd9479f37",
   "metadata": {},
   "outputs": [],
   "source": [
    "df_1 = pd.read_csv(r\"C:\\Users\\flore\\OneDrive\\Documents\\CSUN\\Fall24\\COMP_541\\Project\\VideoGame\\games.csv\")"
   ]
  },
  {
   "cell_type": "code",
   "execution_count": 3,
   "id": "b59225df-12b0-45bb-abcc-d560537410d0",
   "metadata": {},
   "outputs": [],
   "source": [
    "df_2 = pd.read_csv(r\"C:\\Users\\flore\\OneDrive\\Documents\\CSUN\\Fall24\\COMP_541\\Project\\VideoGame\\all_games.csv\")"
   ]
  },
  {
   "cell_type": "code",
   "execution_count": 4,
   "id": "180cc4e4-ff67-47a1-a31a-c4417e1aa03f",
   "metadata": {},
   "outputs": [],
   "source": [
    "df_1.columns = ['Name','Release date','Estimated Owners','Peak CCU','Required age','Price','Unknown1',\n",
    "              'Unknown2','About the game','Supported languages','Full audio languages','Reviews','Header Image','Website',\n",
    "              'Support url','Support email','Windows','Mac', 'Linux','User score','Metacritic url'\n",
    "              ,'Positive','Negative','Score rank','Achievements','Recommendations','Unknown3','Notes',\n",
    "              'Average playtime forever','Average playtime two weeks','Median playtime forever','Median playtime two weeks',\n",
    "              'Developers','Publishers','Categories','Genres','Tags','Screenshots','Movies']"
   ]
  },
  {
   "cell_type": "code",
   "execution_count": 5,
   "id": "9f70f1c1-5672-44c0-a0b4-251de5584de7",
   "metadata": {},
   "outputs": [],
   "source": [
    "df_2.columns = ['Name','Platform','Release Date','Summary','Meta Score','User Review']"
   ]
  },
  {
   "cell_type": "code",
   "execution_count": 6,
   "id": "8e354f09-3961-4d0b-a3c4-1d56b85fa310",
   "metadata": {},
   "outputs": [
    {
     "data": {
      "text/plain": [
       "(97410, 39)"
      ]
     },
     "execution_count": 6,
     "metadata": {},
     "output_type": "execute_result"
    }
   ],
   "source": [
    "df_1.shape"
   ]
  },
  {
   "cell_type": "code",
   "execution_count": 7,
   "id": "f375f694-26da-40e3-9a89-08e596ddc5ae",
   "metadata": {},
   "outputs": [
    {
     "data": {
      "text/plain": [
       "(18800, 6)"
      ]
     },
     "execution_count": 7,
     "metadata": {},
     "output_type": "execute_result"
    }
   ],
   "source": [
    "df_2.shape"
   ]
  },
  {
   "cell_type": "code",
   "execution_count": 8,
   "id": "2bb6c70b-7d8c-499b-8fae-9d4b466c37c5",
   "metadata": {},
   "outputs": [],
   "source": [
    "df_1 = df_1.drop(['Developers','User score','Average playtime forever','Average playtime two weeks','Median playtime forever','Median playtime two weeks','Recommendations','Estimated Owners','About the game','Reviews','Unknown1','Unknown2','Unknown3', 'Supported languages','Full audio languages','Header Image' ,'Website', 'Support url', 'Support email', 'Notes', 'Metacritic url', 'Achievements', 'Screenshots', 'Movies','Publishers','Categories','Tags'], axis=1)"
   ]
  },
  {
   "cell_type": "code",
   "execution_count": 9,
   "id": "37034d99-4496-4612-9649-93d478620256",
   "metadata": {},
   "outputs": [],
   "source": [
    "df_2 = df_2.drop(['Summary','Release Date','Platform'], axis=1)"
   ]
  },
  {
   "cell_type": "code",
   "execution_count": 12,
   "id": "82faa761-2da2-4c66-b8a8-06cad5f36752",
   "metadata": {},
   "outputs": [],
   "source": [
    "VG_dataset = pd.merge(df_1, df_2, on='Name', how='inner')"
   ]
  },
  {
   "cell_type": "code",
   "execution_count": 13,
   "id": "dd0e43bb-11ac-45dd-8d02-ef8665692d98",
   "metadata": {},
   "outputs": [
    {
     "data": {
      "text/plain": [
       "(5860, 14)"
      ]
     },
     "execution_count": 13,
     "metadata": {},
     "output_type": "execute_result"
    }
   ],
   "source": [
    "VG_dataset.shape"
   ]
  },
  {
   "cell_type": "code",
   "execution_count": 14,
   "id": "05984d2a-7949-483d-b4bd-50725eec0a3d",
   "metadata": {},
   "outputs": [
    {
     "name": "stdout",
     "output_type": "stream",
     "text": [
      "Number of matching instances in 'Name': 5860\n"
     ]
    }
   ],
   "source": [
    "len_VG_dataset = len(VG_dataset)\n",
    "print(f\"Number of matching instances in 'Name': {len_VG_dataset}\")"
   ]
  },
  {
   "cell_type": "code",
   "execution_count": 15,
   "id": "7830d57c-c8fd-45f5-8a12-4c1a9046ac3f",
   "metadata": {},
   "outputs": [
    {
     "name": "stdout",
     "output_type": "stream",
     "text": [
      "Name            0\n",
      "Release date    0\n",
      "Peak CCU        0\n",
      "Required age    0\n",
      "Price           0\n",
      "Windows         0\n",
      "Mac             0\n",
      "Linux           0\n",
      "Positive        0\n",
      "Negative        0\n",
      "Score rank      0\n",
      "Genres          3\n",
      "Meta Score      0\n",
      "User Review     0\n",
      "dtype: int64\n"
     ]
    }
   ],
   "source": [
    "print(VG_dataset.isna().sum())"
   ]
  },
  {
   "cell_type": "code",
   "execution_count": 16,
   "id": "eeecd423-87b8-41cd-8659-09e94547cbfe",
   "metadata": {},
   "outputs": [
    {
     "data": {
      "text/html": [
       "<div>\n",
       "<style scoped>\n",
       "    .dataframe tbody tr th:only-of-type {\n",
       "        vertical-align: middle;\n",
       "    }\n",
       "\n",
       "    .dataframe tbody tr th {\n",
       "        vertical-align: top;\n",
       "    }\n",
       "\n",
       "    .dataframe thead th {\n",
       "        text-align: right;\n",
       "    }\n",
       "</style>\n",
       "<table border=\"1\" class=\"dataframe\">\n",
       "  <thead>\n",
       "    <tr style=\"text-align: right;\">\n",
       "      <th></th>\n",
       "      <th>Name</th>\n",
       "      <th>Release date</th>\n",
       "      <th>Peak CCU</th>\n",
       "      <th>Required age</th>\n",
       "      <th>Price</th>\n",
       "      <th>Windows</th>\n",
       "      <th>Mac</th>\n",
       "      <th>Linux</th>\n",
       "      <th>Positive</th>\n",
       "      <th>Negative</th>\n",
       "      <th>Score rank</th>\n",
       "      <th>Genres</th>\n",
       "      <th>Meta Score</th>\n",
       "      <th>User Review</th>\n",
       "    </tr>\n",
       "  </thead>\n",
       "  <tbody>\n",
       "    <tr>\n",
       "      <th>0</th>\n",
       "      <td>Alien Breed 3: Descent</td>\n",
       "      <td>Nov 17, 2010</td>\n",
       "      <td>3</td>\n",
       "      <td>0</td>\n",
       "      <td>9.99</td>\n",
       "      <td>True</td>\n",
       "      <td>False</td>\n",
       "      <td>False</td>\n",
       "      <td>0</td>\n",
       "      <td>349</td>\n",
       "      <td>134</td>\n",
       "      <td>Action</td>\n",
       "      <td>68</td>\n",
       "      <td>6.7</td>\n",
       "    </tr>\n",
       "    <tr>\n",
       "      <th>1</th>\n",
       "      <td>Alien Breed 3: Descent</td>\n",
       "      <td>Nov 17, 2010</td>\n",
       "      <td>3</td>\n",
       "      <td>0</td>\n",
       "      <td>9.99</td>\n",
       "      <td>True</td>\n",
       "      <td>False</td>\n",
       "      <td>False</td>\n",
       "      <td>0</td>\n",
       "      <td>349</td>\n",
       "      <td>134</td>\n",
       "      <td>Action</td>\n",
       "      <td>64</td>\n",
       "      <td>5.1</td>\n",
       "    </tr>\n",
       "    <tr>\n",
       "      <th>2</th>\n",
       "      <td>Alien Breed 3: Descent</td>\n",
       "      <td>Nov 17, 2010</td>\n",
       "      <td>3</td>\n",
       "      <td>0</td>\n",
       "      <td>9.99</td>\n",
       "      <td>True</td>\n",
       "      <td>False</td>\n",
       "      <td>False</td>\n",
       "      <td>0</td>\n",
       "      <td>349</td>\n",
       "      <td>134</td>\n",
       "      <td>Action</td>\n",
       "      <td>64</td>\n",
       "      <td>4.9</td>\n",
       "    </tr>\n",
       "    <tr>\n",
       "      <th>3</th>\n",
       "      <td>Deadfall Adventures</td>\n",
       "      <td>Nov 15, 2013</td>\n",
       "      <td>4</td>\n",
       "      <td>0</td>\n",
       "      <td>19.99</td>\n",
       "      <td>True</td>\n",
       "      <td>False</td>\n",
       "      <td>True</td>\n",
       "      <td>0</td>\n",
       "      <td>1716</td>\n",
       "      <td>628</td>\n",
       "      <td>Action,Adventure</td>\n",
       "      <td>53</td>\n",
       "      <td>6.9</td>\n",
       "    </tr>\n",
       "    <tr>\n",
       "      <th>4</th>\n",
       "      <td>Deadfall Adventures</td>\n",
       "      <td>Nov 15, 2013</td>\n",
       "      <td>4</td>\n",
       "      <td>0</td>\n",
       "      <td>19.99</td>\n",
       "      <td>True</td>\n",
       "      <td>False</td>\n",
       "      <td>True</td>\n",
       "      <td>0</td>\n",
       "      <td>1716</td>\n",
       "      <td>628</td>\n",
       "      <td>Action,Adventure</td>\n",
       "      <td>43</td>\n",
       "      <td>7.7</td>\n",
       "    </tr>\n",
       "  </tbody>\n",
       "</table>\n",
       "</div>"
      ],
      "text/plain": [
       "                     Name  Release date  Peak CCU  Required age  Price  \\\n",
       "0  Alien Breed 3: Descent  Nov 17, 2010         3             0   9.99   \n",
       "1  Alien Breed 3: Descent  Nov 17, 2010         3             0   9.99   \n",
       "2  Alien Breed 3: Descent  Nov 17, 2010         3             0   9.99   \n",
       "3     Deadfall Adventures  Nov 15, 2013         4             0  19.99   \n",
       "4     Deadfall Adventures  Nov 15, 2013         4             0  19.99   \n",
       "\n",
       "   Windows    Mac  Linux  Positive  Negative  Score rank            Genres  \\\n",
       "0     True  False  False         0       349         134            Action   \n",
       "1     True  False  False         0       349         134            Action   \n",
       "2     True  False  False         0       349         134            Action   \n",
       "3     True  False   True         0      1716         628  Action,Adventure   \n",
       "4     True  False   True         0      1716         628  Action,Adventure   \n",
       "\n",
       "   Meta Score User Review  \n",
       "0          68         6.7  \n",
       "1          64         5.1  \n",
       "2          64         4.9  \n",
       "3          53         6.9  \n",
       "4          43         7.7  "
      ]
     },
     "execution_count": 16,
     "metadata": {},
     "output_type": "execute_result"
    }
   ],
   "source": [
    "VG_dataset.head()"
   ]
  },
  {
   "cell_type": "code",
   "execution_count": 17,
   "id": "faff96fc-d2af-41a9-8975-af820a6b8ee8",
   "metadata": {},
   "outputs": [],
   "source": [
    "VG_dataset = VG_dataset.dropna()"
   ]
  },
  {
   "cell_type": "code",
   "execution_count": 18,
   "id": "b8476306-7e3f-46c6-a6d9-a00b78213b69",
   "metadata": {},
   "outputs": [],
   "source": [
    "VG_dataset = VG_dataset.drop(['Name'], axis = 1)"
   ]
  },
  {
   "cell_type": "code",
   "execution_count": 19,
   "id": "d49f4fff-727d-494a-afcd-53efe6f9d7f8",
   "metadata": {},
   "outputs": [
    {
     "data": {
      "text/plain": [
       "(5857, 13)"
      ]
     },
     "execution_count": 19,
     "metadata": {},
     "output_type": "execute_result"
    }
   ],
   "source": [
    "VG_dataset.shape"
   ]
  },
  {
   "cell_type": "code",
   "execution_count": 20,
   "id": "afa6306f-2aa7-4ab3-a010-7964da2b29c3",
   "metadata": {
    "scrolled": true
   },
   "outputs": [],
   "source": [
    "VG_dataset['Release date'] = VG_dataset['Release date'].str.extract(r'(\\d{4})')\n",
    "VG_dataset['Release date'] = pd.to_numeric(VG_dataset['Release date'], errors='coerce')\n",
    "VG_dataset = VG_dataset[VG_dataset['Release date'] >= 2014]\n"
   ]
  },
  {
   "cell_type": "code",
   "execution_count": 21,
   "id": "245f9f76-b9a0-4b43-ba85-6fbc08e343af",
   "metadata": {},
   "outputs": [
    {
     "name": "stdout",
     "output_type": "stream",
     "text": [
      "Number of Games instances release after 2014': 4573\n"
     ]
    }
   ],
   "source": [
    "len_VG_filter_by_year = len(VG_dataset)\n",
    "print(f\"Number of Games instances release after 2014': {len_VG_filter_by_year}\")"
   ]
  },
  {
   "cell_type": "code",
   "execution_count": 22,
   "id": "d5a7b5d0-0b8a-4491-90c2-37fd7a3aa895",
   "metadata": {},
   "outputs": [],
   "source": [
    "VG_dataset['Genres'] = VG_dataset['Genres'].str.split(',')\n",
    "unique_tags = set(tag for sublist in VG_dataset['Genres'] for tag in sublist)\n",
    "one_hot_encoded_genres = VG_dataset['Genres'].str.join('|').str.get_dummies()\n",
    "VG_dataset = pd.concat([VG_dataset, one_hot_encoded_genres], axis=1)\n",
    "VG_dataset.drop('Genres', axis=1, inplace=True) #don't need 'Genres' feature any more"
   ]
  },
  {
   "cell_type": "code",
   "execution_count": 23,
   "id": "f6cc0907-3b5b-4cd3-a8e3-61c9d09530f4",
   "metadata": {},
   "outputs": [],
   "source": [
    "Q1 = VG_dataset['Negative'].quantile(0.25)\n",
    "Q3 = VG_dataset['Negative'].quantile(0.75)\n",
    "IQR = Q3 - Q1\n",
    "lower_bound = Q1 - 1.5 * IQR\n",
    "upper_bound = Q3 + 1.5 * IQR\n",
    "VG_outliers_filter = VG_dataset[(VG_dataset['Negative'] >= lower_bound) & (VG_dataset['Negative'] <= upper_bound)]"
   ]
  },
  {
   "cell_type": "code",
   "execution_count": 24,
   "id": "ee7c3ab2-bab9-4a26-8300-42b4653d0e99",
   "metadata": {},
   "outputs": [
    {
     "name": "stdout",
     "output_type": "stream",
     "text": [
      "Lower Bound: -6519.0\n",
      "Upper Bound: 11465.0\n",
      "Total Number of Outliers: 693\n"
     ]
    }
   ],
   "source": [
    "total_outliers = len(VG_dataset) - len(VG_outliers_filter)\n",
    "print(f\"Lower Bound: {lower_bound}\")\n",
    "print(f\"Upper Bound: {upper_bound}\")\n",
    "print(f\"Total Number of Outliers: {total_outliers}\")"
   ]
  },
  {
   "cell_type": "code",
   "execution_count": 25,
   "id": "0f1d56df-4e5c-4cba-9dbd-d7ae2bb6639b",
   "metadata": {},
   "outputs": [
    {
     "data": {
      "image/png": "[encoded data removed]",
      "text/plain": [
       "<Figure size 1000x200 with 1 Axes>"
      ]
     },
     "metadata": {},
     "output_type": "display_data"
    }
   ],
   "source": [
    "plt.figure(figsize=(10, 2))\n",
    "plt.title(\"Negative Values on Number Line\")\n",
    "plt.axhline(0, color='black', lw=0.8)  \n",
    "plt.text(0, 0.1, f'Number of Outliers: {total_outliers}', fontsize=12, ha='center', color='black')\n",
    "plt.axvline(upper_bound, color='green', linestyle='--', label='Upper Bound')\n",
    "plt.scatter(VG_dataset['Negative'], np.zeros(len(VG_dataset)), color='blue', label='Negative Values', s=10)\n",
    "plt.xlim(VG_dataset['Negative'].min() - 100, VG_dataset['Negative'].max()+10000)  # x-axis limits\n",
    "plt.yticks([])  \n",
    "plt.xlabel(\"Negative Values\")\n",
    "plt.legend()\n",
    "plt.grid(False)\n",
    "plt.show()"
   ]
  },
  {
   "cell_type": "code",
   "execution_count": 26,
   "id": "1fa2039c-f336-44e3-923e-7723efac5119",
   "metadata": {},
   "outputs": [],
   "source": [
    "VG_dataset = VG_outliers_filter"
   ]
  },
  {
   "cell_type": "code",
   "execution_count": 27,
   "id": "cad41f9b-b7a5-4c3c-8366-3481d4718018",
   "metadata": {},
   "outputs": [],
   "source": [
    "scaler = MinMaxScaler()\n",
    "normalization_data = scaler.fit_transform(VG_dataset[['Release date', 'Peak CCU','Required age','Price', 'Positive', 'Negative','Score rank','Meta Score']])\n",
    "VG_dataset[['Release date', 'Peak CCU','Required age','Price', 'Positive', 'Negative', 'Score rank','Meta Score']] = normalization_data"
   ]
  },
  {
   "cell_type": "code",
   "execution_count": 28,
   "id": "b5e3d13c-e07f-4c40-9138-0a691b6f1758",
   "metadata": {},
   "outputs": [
    {
     "data": {
      "text/plain": [
       "Release date                  0.2\n",
       "Peak CCU                  0.00007\n",
       "Required age                  0.0\n",
       "Price                    0.074954\n",
       "Windows                      True\n",
       "Mac                         False\n",
       "Linux                       False\n",
       "Positive                      0.0\n",
       "Negative                 0.018055\n",
       "Score rank               0.007046\n",
       "Meta Score               0.657534\n",
       "User Review                   7.8\n",
       "Action                          1\n",
       "Adventure                       1\n",
       "Animation & Modeling            0\n",
       "Casual                          0\n",
       "Design & Illustration           0\n",
       "Early Access                    0\n",
       "Free To Play                    0\n",
       "Free to Play                    0\n",
       "Gore                            0\n",
       "Indie                           1\n",
       "Massively Multiplayer           0\n",
       "Nudity                          0\n",
       "RPG                             1\n",
       "Racing                          0\n",
       "Sexual Content                  0\n",
       "Simulation                      0\n",
       "Sports                          0\n",
       "Strategy                        0\n",
       "Utilities                       0\n",
       "Video Production                0\n",
       "Violent                         0\n",
       "Name: 11, dtype: object"
      ]
     },
     "execution_count": 28,
     "metadata": {},
     "output_type": "execute_result"
    }
   ],
   "source": [
    "VG_dataset.iloc[0]"
   ]
  },
  {
   "cell_type": "code",
   "execution_count": 29,
   "id": "09f741ad-4922-4f1e-8df1-9b764cee99f0",
   "metadata": {},
   "outputs": [],
   "source": [
    "genre_columns = VG_dataset.columns[12:]\n",
    "threshold = 0.10 * len(VG_dataset)\n",
    "filtered_genres = [col for col in genre_columns if VG_dataset[col].sum() >= threshold]\n",
    "columns_to_keep = VG_dataset.columns[1:12].tolist() + filtered_genres\n",
    "VG_dataset = VG_dataset[columns_to_keep]"
   ]
  },
  {
   "cell_type": "code",
   "execution_count": 30,
   "id": "c6569bf2-4bf9-4b7d-9c9e-c37423a897ac",
   "metadata": {},
   "outputs": [
    {
     "name": "stdout",
     "output_type": "stream",
     "text": [
      "[ True]\n"
     ]
    }
   ],
   "source": [
    "unique_windows = VG_dataset['Windows'].unique()\n",
    "print(unique_windows)"
   ]
  },
  {
   "cell_type": "code",
   "execution_count": 31,
   "id": "5f4d1114-3f5e-498c-a271-cded4764b0e5",
   "metadata": {},
   "outputs": [],
   "source": [
    "# Remove the feature 'Window' because all the instance has the same value \n",
    "# redundant feature \n",
    "VG_dataset= VG_dataset.drop(['Windows'], axis=1)"
   ]
  },
  {
   "cell_type": "code",
   "execution_count": 32,
   "id": "97aae39f-8b27-4a09-8d56-305655c967d3",
   "metadata": {},
   "outputs": [],
   "source": [
    "VG_dataset = VG_dataset[VG_dataset['User Review'] != 'tbd']"
   ]
  },
  {
   "cell_type": "code",
   "execution_count": 33,
   "id": "a655f817-b24a-427d-88d3-e21adce2ca4e",
   "metadata": {},
   "outputs": [],
   "source": [
    "VG_dataset.loc[:, 'User Review'] = pd.to_numeric(VG_dataset['User Review'], errors='coerce')"
   ]
  },
  {
   "cell_type": "code",
   "execution_count": 34,
   "id": "e418cf91-7b64-48b8-9f3d-629adaa7a734",
   "metadata": {},
   "outputs": [
    {
     "name": "stdout",
     "output_type": "stream",
     "text": [
      "Correlation with 'Meta Score':\n",
      "Peak CCU        0.102442\n",
      "Required age   -0.097415\n",
      "Price           0.100313\n",
      "Mac             0.104554\n",
      "Linux           0.092904\n",
      "Positive        0.004297\n",
      "Negative        0.263749\n",
      "Score rank      0.002806\n",
      "Meta Score      1.000000\n",
      "User Review     0.519950\n",
      "Action         -0.040038\n",
      "Adventure       0.003518\n",
      "Casual         -0.000480\n",
      "Indie           0.060891\n",
      "RPG             0.046574\n",
      "Simulation     -0.008883\n",
      "Strategy        0.019927\n",
      "Name: Meta Score, dtype: float64\n"
     ]
    }
   ],
   "source": [
    "correlation_matrix = VG_dataset.corr()\n",
    "meta_score_correlation = correlation_matrix['Meta Score']\n",
    "print(\"Correlation with 'Meta Score':\")\n",
    "print(meta_score_correlation)"
   ]
  },
  {
   "cell_type": "code",
   "execution_count": 35,
   "id": "43fc29be-0846-4a87-b6ef-c67226ebaa1a",
   "metadata": {},
   "outputs": [],
   "source": [
    "low_correlation_features = meta_score_correlation[abs(meta_score_correlation) < 0.015].index.tolist()\n",
    "VG_dataset.drop(columns=low_correlation_features, inplace=True)"
   ]
  },
  {
   "cell_type": "code",
   "execution_count": 36,
   "id": "971d3c65-5673-44db-a5e3-6ce93f54a99e",
   "metadata": {},
   "outputs": [
    {
     "data": {
      "text/html": [
       "<div>\n",
       "<style scoped>\n",
       "    .dataframe tbody tr th:only-of-type {\n",
       "        vertical-align: middle;\n",
       "    }\n",
       "\n",
       "    .dataframe tbody tr th {\n",
       "        vertical-align: top;\n",
       "    }\n",
       "\n",
       "    .dataframe thead th {\n",
       "        text-align: right;\n",
       "    }\n",
       "</style>\n",
       "<table border=\"1\" class=\"dataframe\">\n",
       "  <thead>\n",
       "    <tr style=\"text-align: right;\">\n",
       "      <th></th>\n",
       "      <th>Peak CCU</th>\n",
       "      <th>Required age</th>\n",
       "      <th>Price</th>\n",
       "      <th>Mac</th>\n",
       "      <th>Linux</th>\n",
       "      <th>Negative</th>\n",
       "      <th>Meta Score</th>\n",
       "      <th>User Review</th>\n",
       "      <th>Action</th>\n",
       "      <th>Indie</th>\n",
       "      <th>RPG</th>\n",
       "      <th>Strategy</th>\n",
       "    </tr>\n",
       "  </thead>\n",
       "  <tbody>\n",
       "    <tr>\n",
       "      <th>11</th>\n",
       "      <td>0.000070</td>\n",
       "      <td>0.000000</td>\n",
       "      <td>0.074954</td>\n",
       "      <td>False</td>\n",
       "      <td>False</td>\n",
       "      <td>0.018055</td>\n",
       "      <td>0.657534</td>\n",
       "      <td>7.8</td>\n",
       "      <td>1</td>\n",
       "      <td>1</td>\n",
       "      <td>1</td>\n",
       "      <td>0</td>\n",
       "    </tr>\n",
       "    <tr>\n",
       "      <th>12</th>\n",
       "      <td>0.000279</td>\n",
       "      <td>0.000000</td>\n",
       "      <td>0.004950</td>\n",
       "      <td>False</td>\n",
       "      <td>False</td>\n",
       "      <td>0.181683</td>\n",
       "      <td>0.821918</td>\n",
       "      <td>4.0</td>\n",
       "      <td>1</td>\n",
       "      <td>1</td>\n",
       "      <td>0</td>\n",
       "      <td>0</td>\n",
       "    </tr>\n",
       "    <tr>\n",
       "      <th>13</th>\n",
       "      <td>0.000279</td>\n",
       "      <td>0.000000</td>\n",
       "      <td>0.004950</td>\n",
       "      <td>False</td>\n",
       "      <td>False</td>\n",
       "      <td>0.181683</td>\n",
       "      <td>0.739726</td>\n",
       "      <td>5.4</td>\n",
       "      <td>1</td>\n",
       "      <td>1</td>\n",
       "      <td>0</td>\n",
       "      <td>0</td>\n",
       "    </tr>\n",
       "    <tr>\n",
       "      <th>16</th>\n",
       "      <td>0.000070</td>\n",
       "      <td>0.000000</td>\n",
       "      <td>0.124956</td>\n",
       "      <td>False</td>\n",
       "      <td>False</td>\n",
       "      <td>0.036633</td>\n",
       "      <td>0.397260</td>\n",
       "      <td>4.8</td>\n",
       "      <td>0</td>\n",
       "      <td>1</td>\n",
       "      <td>0</td>\n",
       "      <td>0</td>\n",
       "    </tr>\n",
       "    <tr>\n",
       "      <th>17</th>\n",
       "      <td>0.003175</td>\n",
       "      <td>0.722222</td>\n",
       "      <td>0.199960</td>\n",
       "      <td>False</td>\n",
       "      <td>False</td>\n",
       "      <td>0.184300</td>\n",
       "      <td>0.794521</td>\n",
       "      <td>8.3</td>\n",
       "      <td>0</td>\n",
       "      <td>0</td>\n",
       "      <td>1</td>\n",
       "      <td>0</td>\n",
       "    </tr>\n",
       "  </tbody>\n",
       "</table>\n",
       "</div>"
      ],
      "text/plain": [
       "    Peak CCU  Required age     Price    Mac  Linux  Negative  Meta Score  \\\n",
       "11  0.000070      0.000000  0.074954  False  False  0.018055    0.657534   \n",
       "12  0.000279      0.000000  0.004950  False  False  0.181683    0.821918   \n",
       "13  0.000279      0.000000  0.004950  False  False  0.181683    0.739726   \n",
       "16  0.000070      0.000000  0.124956  False  False  0.036633    0.397260   \n",
       "17  0.003175      0.722222  0.199960  False  False  0.184300    0.794521   \n",
       "\n",
       "   User Review  Action  Indie  RPG  Strategy  \n",
       "11         7.8       1      1    1         0  \n",
       "12         4.0       1      1    0         0  \n",
       "13         5.4       1      1    0         0  \n",
       "16         4.8       0      1    0         0  \n",
       "17         8.3       0      0    1         0  "
      ]
     },
     "execution_count": 36,
     "metadata": {},
     "output_type": "execute_result"
    }
   ],
   "source": [
    "VG_dataset.head()"
   ]
  },
  {
   "cell_type": "code",
   "execution_count": 37,
   "id": "7938579e-6d39-4d3d-9d7f-f1ffbe613b12",
   "metadata": {},
   "outputs": [
    {
     "data": {
      "text/plain": [
       "(3511, 12)"
      ]
     },
     "execution_count": 37,
     "metadata": {},
     "output_type": "execute_result"
    }
   ],
   "source": [
    "VG_dataset.shape"
   ]
  },
  {
   "cell_type": "code",
   "execution_count": 38,
   "id": "acfc12cf-848a-4ee2-90e0-b96c32e4bbd4",
   "metadata": {},
   "outputs": [
    {
     "data": {
      "text/plain": [
       "Peak CCU        float64\n",
       "Required age    float64\n",
       "Price           float64\n",
       "Mac                bool\n",
       "Linux              bool\n",
       "Negative        float64\n",
       "Meta Score      float64\n",
       "User Review      object\n",
       "Action            int64\n",
       "Indie             int64\n",
       "RPG               int64\n",
       "Strategy          int64\n",
       "dtype: object"
      ]
     },
     "execution_count": 38,
     "metadata": {},
     "output_type": "execute_result"
    }
   ],
   "source": [
    "VG_dataset.dtypes"
   ]
  },
  {
   "cell_type": "code",
   "execution_count": 39,
   "id": "d1578dc8-ee47-44e3-afd6-17bea9d8fe65",
   "metadata": {},
   "outputs": [],
   "source": [
    "fixed_num_instances = len(VG_dataset)\n",
    "VG_dataset = VG_dataset.sample(n=fixed_num_instances, random_state=42)"
   ]
  },
  {
   "cell_type": "code",
   "execution_count": 40,
   "id": "334681a0-950c-41e6-92fd-54ed23abf778",
   "metadata": {},
   "outputs": [],
   "source": [
    "y =VG_dataset['Meta Score']"
   ]
  },
  {
   "cell_type": "code",
   "execution_count": 41,
   "id": "77d13182-2058-4bfb-8ee1-2abfa0d7a526",
   "metadata": {},
   "outputs": [],
   "source": [
    "X = VG_dataset.drop(['Meta Score'], axis=1)"
   ]
  },
  {
   "cell_type": "code",
   "execution_count": 42,
   "id": "40c70e0b-a15a-42de-9c39-3c2ac795a3c7",
   "metadata": {},
   "outputs": [],
   "source": [
    "X = pd.DataFrame(X)"
   ]
  },
  {
   "cell_type": "code",
   "execution_count": 43,
   "id": "6103e6a0-25c8-4e19-ad31-c28b8e9dbf4f",
   "metadata": {},
   "outputs": [],
   "source": [
    "X_train, X_test, y_train, y_test = train_test_split(X, y, test_size=0.2, random_state=42)"
   ]
  },
  {
   "cell_type": "code",
   "execution_count": 44,
   "id": "714d0076-7739-451a-88ef-9e03a38216de",
   "metadata": {},
   "outputs": [],
   "source": [
    "scaler = StandardScaler()\n",
    "X_train_scaled = scaler.fit_transform(X_train)"
   ]
  },
  {
   "cell_type": "code",
   "execution_count": 45,
   "id": "50799c19-26a6-4822-81a9-87fad0b45351",
   "metadata": {},
   "outputs": [],
   "source": [
    "param_grid = {\n",
    "    'n_neighbors': [3,5,7,9],\n",
    "    'weights': ['uniform', 'distance'],\n",
    "    'algorithm': ['auto', 'ball_tree', 'kd_tree', 'brute']\n",
    "}"
   ]
  },
  {
   "cell_type": "code",
   "execution_count": 46,
   "id": "a0dd8b1d-82e9-4b33-aa77-beaea467fafe",
   "metadata": {},
   "outputs": [],
   "source": [
    "grid_search = GridSearchCV(KNeighborsRegressor(), param_grid, cv=5, scoring='neg_mean_squared_error')"
   ]
  },
  {
   "cell_type": "code",
   "execution_count": 47,
   "id": "2713ab34-94a2-40b6-af24-5c889d8ae013",
   "metadata": {},
   "outputs": [
    {
     "name": "stdout",
     "output_type": "stream",
     "text": [
      "Run time: 3.3269858360290527\n"
     ]
    }
   ],
   "source": [
    "st=time.time()\n",
    "grid_search.fit(X_train_scaled, np.ravel(y_train))\n",
    "et = time.time()\n",
    "elapsed_time = et - st\n",
    "print(f\"Run time: {elapsed_time}\")"
   ]
  },
  {
   "cell_type": "code",
   "execution_count": 48,
   "id": "98768e20-0b34-4692-a232-a8ecea798595",
   "metadata": {},
   "outputs": [],
   "source": [
    "best_knn = grid_search.best_estimator_\n",
    "y_pred_test = best_knn.predict(scaler.transform(X_test))\n",
    "y_pred_train = best_knn.predict(scaler.transform(X_train))"
   ]
  },
  {
   "cell_type": "code",
   "execution_count": 49,
   "id": "9c5e9a1b-c03d-499c-8c9e-92cf28cdeb7d",
   "metadata": {},
   "outputs": [],
   "source": [
    "min_value = min(min(y_test), min(y_pred_test))\n",
    "max_value = max(max(y_test), max(y_pred_test))"
   ]
  },
  {
   "cell_type": "code",
   "execution_count": 50,
   "id": "1bf20848-5c08-4631-afb8-42d454a36b0e",
   "metadata": {},
   "outputs": [
    {
     "data": {
      "text/plain": [
       "<matplotlib.lines._AxLine at 0x2b50719e620>"
      ]
     },
     "execution_count": 50,
     "metadata": {},
     "output_type": "execute_result"
    },
    {
     "data": {
      "image/png": "[encoded data removed]",
      "text/plain": [
       "<Figure size 640x480 with 1 Axes>"
      ]
     },
     "metadata": {},
     "output_type": "display_data"
    }
   ],
   "source": [
    "p = sns.scatterplot(x=y_test, y=y_pred_test)\n",
    "plt.title(\"KNN Regressor\")\n",
    "p.set_xlabel(\"Actual values\", fontsize=14)\n",
    "p.set_ylabel(\"Predicted values\", fontsize=14)\n",
    "plt.axline((min_value,min_value), (max_value, max_value), color='r', ls='--')"
   ]
  },
  {
   "cell_type": "code",
   "execution_count": 51,
   "id": "9e1ecccf-41e2-4eb3-a80c-e2e9f20dcfe5",
   "metadata": {},
   "outputs": [
    {
     "name": "stdout",
     "output_type": "stream",
     "text": [
      "MSE:  0.011655798910916856\n",
      "MAE:  0.08286730880724696\n",
      "R sqaure:  0.38864669696819465\n"
     ]
    }
   ],
   "source": [
    "print(\"MSE: \", metrics.mean_squared_error(y_test, y_pred_test))\n",
    "print(\"MAE: \", metrics.mean_absolute_error(y_test, y_pred_test))\n",
    "print(\"R sqaure: \", metrics. r2_score(y_test, y_pred_test))"
   ]
  },
  {
   "cell_type": "code",
   "execution_count": 52,
   "id": "2b6030be-813e-4fa9-bb6b-1006e77cfc38",
   "metadata": {},
   "outputs": [
    {
     "name": "stdout",
     "output_type": "stream",
     "text": [
      "Train Accuracy (R^2): 0.996379160776159\n",
      "Test Accuracy (R^2): 0.38864669696819465\n"
     ]
    }
   ],
   "source": [
    "train_accuracy = r2_score(y_train, y_pred_train)\n",
    "test_accuracy = r2_score(y_test, y_pred_test)\n",
    "\n",
    "print(\"Train Accuracy (R^2):\", train_accuracy)\n",
    "print(\"Test Accuracy (R^2):\", test_accuracy)"
   ]
  }
 ],
 "metadata": {
  "kernelspec": {
   "display_name": "Python 3 (ipykernel)",
   "language": "python",
   "name": "python3"
  },
  "language_info": {
   "codemirror_mode": {
    "name": "ipython",
    "version": 3
   },
   "file_extension": ".py",
   "mimetype": "text/x-python",
   "name": "python",
   "nbconvert_exporter": "python",
   "pygments_lexer": "ipython3",
   "version": "3.10.4"
  }
 },
 "nbformat": 4,
 "nbformat_minor": 5
}
