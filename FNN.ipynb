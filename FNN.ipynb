{
 "cells": [
  {
   "cell_type": "code",
   "execution_count": 1,
   "id": "980e07ee-99a4-498f-b16a-1ce88156d59d",
   "metadata": {},
   "outputs": [],
   "source": [
    "import pandas as pd\n",
    "import time\n",
    "import seaborn as sns\n",
    "import matplotlib.pyplot as plt\n",
    "import numpy as np\n",
    "from sklearn.preprocessing import MinMaxScaler\n",
    "from sklearn.model_selection import train_test_split\n",
    "from sklearn.preprocessing import StandardScaler\n",
    "from sklearn.metrics import mean_squared_error, mean_absolute_error, r2_score "
   ]
  },
  {
   "cell_type": "code",
   "execution_count": 2,
   "id": "176e0f3d-0355-4ccd-b402-d779e55e99aa",
   "metadata": {},
   "outputs": [],
   "source": [
    "import tensorflow as tf\n",
    "from tensorflow.keras.models import Sequential\n",
    "from tensorflow.keras.layers import Dense, Dropout\n",
    "from tensorflow.keras.optimizers import Adam\n",
    "from tensorflow.keras.losses import SparseCategoricalCrossentropy, MeanSquaredError\n",
    "from tensorflow.keras.metrics import SparseCategoricalAccuracy\n",
    "from tensorflow.keras.metrics import MeanAbsoluteError"
   ]
  },
  {
   "cell_type": "code",
   "execution_count": 3,
   "id": "1b0da6ef-1143-4d77-94e7-b0846e4903db",
   "metadata": {},
   "outputs": [],
   "source": [
    "df_1 = pd.read_csv(r\"C:\\Users\\flore\\OneDrive\\Documents\\CSUN\\Fall24\\COMP_541\\Project\\VideoGame\\games.csv\")"
   ]
  },
  {
   "cell_type": "code",
   "execution_count": 4,
   "id": "e3dfd576-05c2-47ab-8131-fded36706ecb",
   "metadata": {},
   "outputs": [],
   "source": [
    "df_2 = pd.read_csv(r\"C:\\Users\\flore\\OneDrive\\Documents\\CSUN\\Fall24\\COMP_541\\Project\\VideoGame\\all_games.csv\")"
   ]
  },
  {
   "cell_type": "code",
   "execution_count": 5,
   "id": "85b9ebe4-926b-43a3-9776-0d882d2dc797",
   "metadata": {},
   "outputs": [],
   "source": [
    "df_1.columns = ['Name','Release date','Estimated Owners','Peak CCU','Required age','Price','Unknown1',\n",
    "              'Unknown2','About the game','Supported languages','Full audio languages','Reviews','Header Image','Website',\n",
    "              'Support url','Support email','Windows','Mac', 'Linux','User score','Metacritic url'\n",
    "              ,'Positive','Negative','Score rank','Achievements','Recommendations','Unknown3','Notes',\n",
    "              'Average playtime forever','Average playtime two weeks','Median playtime forever','Median playtime two weeks',\n",
    "              'Developers','Publishers','Categories','Genres','Tags','Screenshots','Movies']"
   ]
  },
  {
   "cell_type": "code",
   "execution_count": 6,
   "id": "c9be2c80-db09-4d37-a420-1d3bfe5a1171",
   "metadata": {},
   "outputs": [],
   "source": [
    "df_2.columns = ['Name','Platform','Release Date','Summary','Meta Score','User Review']"
   ]
  },
  {
   "cell_type": "code",
   "execution_count": 7,
   "id": "92ff12a1-ab06-41f8-87d7-f707bad554c9",
   "metadata": {},
   "outputs": [],
   "source": [
    "df_1 = df_1.drop(['Developers','User score','Average playtime forever','Average playtime two weeks','Median playtime forever','Median playtime two weeks','Recommendations','Estimated Owners','About the game','Reviews','Unknown1','Unknown2','Unknown3', 'Supported languages','Full audio languages','Header Image' ,'Website', 'Support url', 'Support email', 'Notes', 'Metacritic url', 'Achievements', 'Screenshots', 'Movies','Publishers','Categories','Tags'], axis=1)"
   ]
  },
  {
   "cell_type": "code",
   "execution_count": 8,
   "id": "01b2ddc8-cdec-4f3e-b755-64abb1318bf5",
   "metadata": {},
   "outputs": [],
   "source": [
    "df_2 = df_2.drop(['Summary','Release Date','Platform'], axis=1)"
   ]
  },
  {
   "cell_type": "code",
   "execution_count": 9,
   "id": "7bf79241-2b8b-45ec-a1a1-a646953c24b3",
   "metadata": {},
   "outputs": [],
   "source": [
    "VG_dataset = pd.merge(df_1, df_2, on='Name', how='inner')"
   ]
  },
  {
   "cell_type": "code",
   "execution_count": 10,
   "id": "c889c2d4-8b81-4b05-a651-46005702879c",
   "metadata": {},
   "outputs": [
    {
     "name": "stdout",
     "output_type": "stream",
     "text": [
      "Number of matching instances in 'Name': 5860\n"
     ]
    }
   ],
   "source": [
    "len_VG_dataset = len(VG_dataset)\n",
    "print(f\"Number of matching instances in 'Name': {len_VG_dataset}\")"
   ]
  },
  {
   "cell_type": "code",
   "execution_count": 11,
   "id": "1594c80b-ce08-4a83-aed0-6bfbd062b77e",
   "metadata": {},
   "outputs": [
    {
     "name": "stdout",
     "output_type": "stream",
     "text": [
      "Name            0\n",
      "Release date    0\n",
      "Peak CCU        0\n",
      "Required age    0\n",
      "Price           0\n",
      "Windows         0\n",
      "Mac             0\n",
      "Linux           0\n",
      "Positive        0\n",
      "Negative        0\n",
      "Score rank      0\n",
      "Genres          3\n",
      "Meta Score      0\n",
      "User Review     0\n",
      "dtype: int64\n"
     ]
    }
   ],
   "source": [
    "print(VG_dataset.isna().sum())"
   ]
  },
  {
   "cell_type": "code",
   "execution_count": 12,
   "id": "0079a62b-fb98-4fe2-bbfd-b5b67540f35a",
   "metadata": {},
   "outputs": [],
   "source": [
    "VG_dataset = VG_dataset.dropna()"
   ]
  },
  {
   "cell_type": "code",
   "execution_count": 13,
   "id": "4a45dac7-400c-4349-83ef-3be31bca2744",
   "metadata": {},
   "outputs": [],
   "source": [
    "VG_dataset = VG_dataset.drop(['Name'], axis = 1)"
   ]
  },
  {
   "cell_type": "code",
   "execution_count": 14,
   "id": "cbb95182-80b9-4599-879e-ad96d9bae783",
   "metadata": {},
   "outputs": [],
   "source": [
    "VG_dataset = VG_dataset[VG_dataset['User Review'] != 'tbd']\n",
    "VG_dataset.loc[:, 'User Review'] = pd.to_numeric(VG_dataset['User Review'], errors='coerce')"
   ]
  },
  {
   "cell_type": "code",
   "execution_count": 15,
   "id": "ff561490-9247-49d1-8f3e-aba9a18de970",
   "metadata": {},
   "outputs": [
    {
     "data": {
      "text/plain": [
       "(5463, 13)"
      ]
     },
     "execution_count": 15,
     "metadata": {},
     "output_type": "execute_result"
    }
   ],
   "source": [
    "VG_dataset.shape"
   ]
  },
  {
   "cell_type": "code",
   "execution_count": 16,
   "id": "51d39a55-cf50-48ac-8bab-1ce41fee2670",
   "metadata": {
    "scrolled": true
   },
   "outputs": [],
   "source": [
    "VG_dataset['Release date'] = VG_dataset['Release date'].str.extract(r'(\\d{4})')\n",
    "VG_dataset['Release date'] = pd.to_numeric(VG_dataset['Release date'], errors='coerce')\n",
    "VG_dataset = VG_dataset[VG_dataset['Release date'] >= 2014]"
   ]
  },
  {
   "cell_type": "code",
   "execution_count": 17,
   "id": "eb901a63-d25f-4607-b364-2ee3a5cad6d2",
   "metadata": {},
   "outputs": [
    {
     "name": "stdout",
     "output_type": "stream",
     "text": [
      "Number of Games instances release after 2014': 4204\n"
     ]
    }
   ],
   "source": [
    "len_VG_filter_by_year = len(VG_dataset)\n",
    "print(f\"Number of Games instances release after 2014': {len_VG_filter_by_year}\")"
   ]
  },
  {
   "cell_type": "code",
   "execution_count": 18,
   "id": "89f03729-f075-4245-aefc-5b3c1021285f",
   "metadata": {},
   "outputs": [],
   "source": [
    "VG_dataset['Genres'] = VG_dataset['Genres'].str.split(',')\n",
    "unique_tags = set(tag for sublist in VG_dataset['Genres'] for tag in sublist)\n",
    "one_hot_encoded_genres = VG_dataset['Genres'].str.join('|').str.get_dummies()\n",
    "VG_dataset = pd.concat([VG_dataset, one_hot_encoded_genres], axis=1)\n",
    "VG_dataset.drop('Genres', axis=1, inplace=True) #don't need 'Genres' feature any more"
   ]
  },
  {
   "cell_type": "code",
   "execution_count": 19,
   "id": "58c16ab0-4e86-4e19-858a-e7f149213bf0",
   "metadata": {},
   "outputs": [],
   "source": [
    "Q1 = VG_dataset['Negative'].quantile(0.25)\n",
    "Q3 = VG_dataset['Negative'].quantile(0.75)\n",
    "IQR = Q3 - Q1\n",
    "lower_bound = Q1 - 1.5 * IQR\n",
    "upper_bound = Q3 + 1.5 * IQR\n",
    "VG_outliers_filter = VG_dataset[(VG_dataset['Negative'] >= lower_bound) & (VG_dataset['Negative'] <= upper_bound)]"
   ]
  },
  {
   "cell_type": "code",
   "execution_count": 20,
   "id": "73cbc1ed-9cb9-463f-9f11-e079def1a960",
   "metadata": {},
   "outputs": [
    {
     "name": "stdout",
     "output_type": "stream",
     "text": [
      "Lower Bound: -7573.5\n",
      "Upper Bound: 13376.5\n",
      "Total Number of Outliers: 601\n"
     ]
    }
   ],
   "source": [
    "total_outliers = len(VG_dataset) - len(VG_outliers_filter)\n",
    "print(f\"Lower Bound: {lower_bound}\")\n",
    "print(f\"Upper Bound: {upper_bound}\")\n",
    "print(f\"Total Number of Outliers: {total_outliers}\")"
   ]
  },
  {
   "cell_type": "code",
   "execution_count": 21,
   "id": "9c97ac92-77cc-4d13-85cb-0553032ebc4a",
   "metadata": {},
   "outputs": [
    {
     "data": {
      "image/png": "[encoded data removed]",
      "text/plain": [
       "<Figure size 1000x200 with 1 Axes>"
      ]
     },
     "metadata": {},
     "output_type": "display_data"
    }
   ],
   "source": [
    "plt.figure(figsize=(10, 2))\n",
    "plt.title(\"Negative Values on Number Line\")\n",
    "plt.axhline(0, color='black', lw=0.8)  \n",
    "plt.text(0, 0.1, f'Number of Outliers: {total_outliers}', fontsize=12, ha='center', color='black')\n",
    "plt.axvline(upper_bound, color='green', linestyle='--', label='Upper Bound')\n",
    "plt.scatter(VG_dataset['Negative'], np.zeros(len(VG_dataset)), color='blue', label='Negative Values', s=10)\n",
    "plt.xlim(VG_dataset['Negative'].min() - 100, VG_dataset['Negative'].max()+10000)  # x-axis limits\n",
    "plt.yticks([])  \n",
    "plt.xlabel(\"Negative Values\")\n",
    "plt.legend()\n",
    "plt.grid(False)\n",
    "plt.show()"
   ]
  },
  {
   "cell_type": "code",
   "execution_count": 22,
   "id": "84b66a50-adee-4668-99da-ca4e35e59a06",
   "metadata": {},
   "outputs": [],
   "source": [
    "VG_dataset = VG_outliers_filter"
   ]
  },
  {
   "cell_type": "code",
   "execution_count": 23,
   "id": "f4aaa604-8d30-4a40-a330-8880ca573a46",
   "metadata": {},
   "outputs": [],
   "source": [
    "scaler = MinMaxScaler()\n",
    "normalization_data = scaler.fit_transform(VG_dataset[['Release date', 'Peak CCU','Required age','Price', 'Positive', 'Negative','Score rank','Meta Score','User Review']])\n",
    "VG_dataset[['Release date', 'Peak CCU','Required age','Price', 'Positive', 'Negative', 'Score rank','Meta Score','User Review']] = normalization_data"
   ]
  },
  {
   "cell_type": "code",
   "execution_count": 24,
   "id": "b498747c-f0ce-4900-aa2a-d7f17eb761a9",
   "metadata": {},
   "outputs": [],
   "source": [
    "genre_columns = VG_dataset.columns[12:]\n",
    "threshold = 0.10 * len(VG_dataset)\n",
    "filtered_genres = [col for col in genre_columns if VG_dataset[col].sum() >= threshold]\n",
    "columns_to_keep = VG_dataset.columns[1:12].tolist() + filtered_genres\n",
    "VG_dataset = VG_dataset[columns_to_keep]"
   ]
  },
  {
   "cell_type": "code",
   "execution_count": 25,
   "id": "005c9e5c-f1f5-4c1e-a67f-2523d3ba4ca4",
   "metadata": {},
   "outputs": [
    {
     "name": "stdout",
     "output_type": "stream",
     "text": [
      "[ True]\n"
     ]
    }
   ],
   "source": [
    "unique_windows = VG_dataset['Windows'].unique()\n",
    "print(unique_windows)"
   ]
  },
  {
   "cell_type": "code",
   "execution_count": 26,
   "id": "9ad9426c-ee72-4acf-a1ac-0a85e7730c5d",
   "metadata": {},
   "outputs": [],
   "source": [
    "# Remove the feature 'Window' because all the instance has the same value \n",
    "# redundant feature \n",
    "VG_dataset= VG_dataset.drop(['Windows'], axis=1)"
   ]
  },
  {
   "cell_type": "code",
   "execution_count": 27,
   "id": "d49cc3ca-d3e9-477d-acf3-3d702aa9d6e9",
   "metadata": {},
   "outputs": [
    {
     "name": "stdout",
     "output_type": "stream",
     "text": [
      "Correlation with 'Meta Score':\n",
      "Peak CCU        0.104863\n",
      "Required age   -0.095434\n",
      "Price           0.102509\n",
      "Mac             0.115031\n",
      "Linux           0.104825\n",
      "Positive        0.003955\n",
      "Negative        0.274834\n",
      "Score rank      0.026549\n",
      "Meta Score      1.000000\n",
      "User Review     0.520786\n",
      "Action         -0.049638\n",
      "Adventure       0.003599\n",
      "Casual         -0.006718\n",
      "Indie           0.057537\n",
      "RPG             0.057553\n",
      "Simulation     -0.009676\n",
      "Strategy        0.023366\n",
      "Name: Meta Score, dtype: float64\n"
     ]
    }
   ],
   "source": [
    "correlation_matrix = VG_dataset.corr()\n",
    "meta_score_correlation = correlation_matrix['Meta Score']\n",
    "print(\"Correlation with 'Meta Score':\")\n",
    "print(meta_score_correlation)"
   ]
  },
  {
   "cell_type": "code",
   "execution_count": 28,
   "id": "ebf481ea-b2e0-47fb-987a-c05dd09d1511",
   "metadata": {},
   "outputs": [],
   "source": [
    "low_correlation_features = meta_score_correlation[abs(meta_score_correlation) < 0.015].index.tolist()\n",
    "VG_dataset.drop(columns=low_correlation_features, inplace=True)"
   ]
  },
  {
   "cell_type": "code",
   "execution_count": 29,
   "id": "07099b2b-aa9a-4d8e-a207-86be3d55028b",
   "metadata": {},
   "outputs": [
    {
     "data": {
      "text/html": [
       "<div>\n",
       "<style scoped>\n",
       "    .dataframe tbody tr th:only-of-type {\n",
       "        vertical-align: middle;\n",
       "    }\n",
       "\n",
       "    .dataframe tbody tr th {\n",
       "        vertical-align: top;\n",
       "    }\n",
       "\n",
       "    .dataframe thead th {\n",
       "        text-align: right;\n",
       "    }\n",
       "</style>\n",
       "<table border=\"1\" class=\"dataframe\">\n",
       "  <thead>\n",
       "    <tr style=\"text-align: right;\">\n",
       "      <th></th>\n",
       "      <th>Peak CCU</th>\n",
       "      <th>Required age</th>\n",
       "      <th>Price</th>\n",
       "      <th>Mac</th>\n",
       "      <th>Linux</th>\n",
       "      <th>Negative</th>\n",
       "      <th>Score rank</th>\n",
       "      <th>Meta Score</th>\n",
       "      <th>User Review</th>\n",
       "      <th>Action</th>\n",
       "      <th>Indie</th>\n",
       "      <th>RPG</th>\n",
       "      <th>Strategy</th>\n",
       "    </tr>\n",
       "  </thead>\n",
       "  <tbody>\n",
       "    <tr>\n",
       "      <th>11</th>\n",
       "      <td>0.000070</td>\n",
       "      <td>0.000000</td>\n",
       "      <td>0.074954</td>\n",
       "      <td>False</td>\n",
       "      <td>False</td>\n",
       "      <td>0.015675</td>\n",
       "      <td>0.007046</td>\n",
       "      <td>0.657534</td>\n",
       "      <td>0.800000</td>\n",
       "      <td>1</td>\n",
       "      <td>1</td>\n",
       "      <td>1</td>\n",
       "      <td>0</td>\n",
       "    </tr>\n",
       "    <tr>\n",
       "      <th>12</th>\n",
       "      <td>0.000279</td>\n",
       "      <td>0.000000</td>\n",
       "      <td>0.004950</td>\n",
       "      <td>False</td>\n",
       "      <td>False</td>\n",
       "      <td>0.157731</td>\n",
       "      <td>0.034584</td>\n",
       "      <td>0.821918</td>\n",
       "      <td>0.400000</td>\n",
       "      <td>1</td>\n",
       "      <td>1</td>\n",
       "      <td>0</td>\n",
       "      <td>0</td>\n",
       "    </tr>\n",
       "    <tr>\n",
       "      <th>13</th>\n",
       "      <td>0.000279</td>\n",
       "      <td>0.000000</td>\n",
       "      <td>0.004950</td>\n",
       "      <td>False</td>\n",
       "      <td>False</td>\n",
       "      <td>0.157731</td>\n",
       "      <td>0.034584</td>\n",
       "      <td>0.739726</td>\n",
       "      <td>0.547368</td>\n",
       "      <td>1</td>\n",
       "      <td>1</td>\n",
       "      <td>0</td>\n",
       "      <td>0</td>\n",
       "    </tr>\n",
       "    <tr>\n",
       "      <th>16</th>\n",
       "      <td>0.000070</td>\n",
       "      <td>0.000000</td>\n",
       "      <td>0.124956</td>\n",
       "      <td>False</td>\n",
       "      <td>False</td>\n",
       "      <td>0.031804</td>\n",
       "      <td>0.010569</td>\n",
       "      <td>0.397260</td>\n",
       "      <td>0.484211</td>\n",
       "      <td>0</td>\n",
       "      <td>1</td>\n",
       "      <td>0</td>\n",
       "      <td>0</td>\n",
       "    </tr>\n",
       "    <tr>\n",
       "      <th>17</th>\n",
       "      <td>0.003175</td>\n",
       "      <td>0.722222</td>\n",
       "      <td>0.199960</td>\n",
       "      <td>False</td>\n",
       "      <td>False</td>\n",
       "      <td>0.160003</td>\n",
       "      <td>0.008988</td>\n",
       "      <td>0.794521</td>\n",
       "      <td>0.852632</td>\n",
       "      <td>0</td>\n",
       "      <td>0</td>\n",
       "      <td>1</td>\n",
       "      <td>0</td>\n",
       "    </tr>\n",
       "  </tbody>\n",
       "</table>\n",
       "</div>"
      ],
      "text/plain": [
       "    Peak CCU  Required age     Price    Mac  Linux  Negative  Score rank  \\\n",
       "11  0.000070      0.000000  0.074954  False  False  0.015675    0.007046   \n",
       "12  0.000279      0.000000  0.004950  False  False  0.157731    0.034584   \n",
       "13  0.000279      0.000000  0.004950  False  False  0.157731    0.034584   \n",
       "16  0.000070      0.000000  0.124956  False  False  0.031804    0.010569   \n",
       "17  0.003175      0.722222  0.199960  False  False  0.160003    0.008988   \n",
       "\n",
       "    Meta Score  User Review  Action  Indie  RPG  Strategy  \n",
       "11    0.657534     0.800000       1      1    1         0  \n",
       "12    0.821918     0.400000       1      1    0         0  \n",
       "13    0.739726     0.547368       1      1    0         0  \n",
       "16    0.397260     0.484211       0      1    0         0  \n",
       "17    0.794521     0.852632       0      0    1         0  "
      ]
     },
     "execution_count": 29,
     "metadata": {},
     "output_type": "execute_result"
    }
   ],
   "source": [
    "VG_dataset.head()"
   ]
  },
  {
   "cell_type": "code",
   "execution_count": 30,
   "id": "f079ed38-6682-4162-aaed-76dcef269504",
   "metadata": {},
   "outputs": [
    {
     "data": {
      "text/plain": [
       "(3603, 13)"
      ]
     },
     "execution_count": 30,
     "metadata": {},
     "output_type": "execute_result"
    }
   ],
   "source": [
    "VG_dataset.shape"
   ]
  },
  {
   "cell_type": "code",
   "execution_count": 31,
   "id": "ca4da513-4115-4353-a97f-ff52f38560cd",
   "metadata": {},
   "outputs": [],
   "source": [
    "y =VG_dataset['Meta Score']"
   ]
  },
  {
   "cell_type": "code",
   "execution_count": 32,
   "id": "84192275-2d3f-4dd3-b63b-1bfa76cc10c6",
   "metadata": {},
   "outputs": [],
   "source": [
    "X = VG_dataset.drop(['Meta Score'], axis=1)"
   ]
  },
  {
   "cell_type": "code",
   "execution_count": 33,
   "id": "b45b253b-4141-4187-beb8-fee3e81f90a3",
   "metadata": {},
   "outputs": [],
   "source": [
    "X_train, X_test, y_train, y_test = train_test_split(X, y, test_size=0.3, random_state=42)\n",
    "\n",
    "scaler = StandardScaler()\n",
    "X_train = scaler.fit_transform(X_train)\n",
    "X_test = scaler.transform(X_test)"
   ]
  },
  {
   "cell_type": "code",
   "execution_count": 34,
   "id": "c9995fa7-5192-43c9-8341-48ee82c5c9bc",
   "metadata": {},
   "outputs": [
    {
     "name": "stderr",
     "output_type": "stream",
     "text": [
      "C:\\Python\\Python310\\lib\\site-packages\\keras\\src\\layers\\core\\dense.py:87: UserWarning: Do not pass an `input_shape`/`input_dim` argument to a layer. When using Sequential models, prefer using an `Input(shape)` object as the first layer in the model instead.\n",
      "  super().__init__(activity_regularizer=activity_regularizer, **kwargs)\n"
     ]
    }
   ],
   "source": [
    "model = Sequential([\n",
    "    Dense(128, activation='relu', input_shape=(X_train.shape[1],)),\n",
    "    Dropout(0.3),\n",
    "    Dense(64, activation='relu'),\n",
    "    Dropout(0.3),\n",
    "    Dense(32, activation='relu'),\n",
    "    Dense(1)  \n",
    "])"
   ]
  },
  {
   "cell_type": "code",
   "execution_count": 35,
   "id": "c23a6166-b8f3-4386-ac21-eccea9b30c38",
   "metadata": {},
   "outputs": [],
   "source": [
    "model.compile(\n",
    "    optimizer=Adam(learning_rate=0.001),\n",
    "    loss=MeanSquaredError(),          \n",
    "    metrics=[MeanAbsoluteError()]       \n",
    ")"
   ]
  },
  {
   "cell_type": "code",
   "execution_count": 36,
   "id": "c44cc89c-2466-40be-96ab-dbd3467da108",
   "metadata": {},
   "outputs": [
    {
     "name": "stdout",
     "output_type": "stream",
     "text": [
      "Epoch 1/100\n",
      "\u001b[1m79/79\u001b[0m \u001b[32m━━━━━━━━━━━━━━━━━━━━\u001b[0m\u001b[37m\u001b[0m \u001b[1m1s\u001b[0m 4ms/step - loss: 0.2652 - mean_absolute_error: 0.3532 - val_loss: 0.0231 - val_mean_absolute_error: 0.1250\n",
      "Epoch 2/100\n",
      "\u001b[1m79/79\u001b[0m \u001b[32m━━━━━━━━━━━━━━━━━━━━\u001b[0m\u001b[37m\u001b[0m \u001b[1m0s\u001b[0m 2ms/step - loss: 0.0546 - mean_absolute_error: 0.1803 - val_loss: 0.0211 - val_mean_absolute_error: 0.1215\n",
      "Epoch 3/100\n",
      "\u001b[1m79/79\u001b[0m \u001b[32m━━━━━━━━━━━━━━━━━━━━\u001b[0m\u001b[37m\u001b[0m \u001b[1m0s\u001b[0m 2ms/step - loss: 0.0378 - mean_absolute_error: 0.1515 - val_loss: 0.0220 - val_mean_absolute_error: 0.1238\n",
      "Epoch 4/100\n",
      "\u001b[1m79/79\u001b[0m \u001b[32m━━━━━━━━━━━━━━━━━━━━\u001b[0m\u001b[37m\u001b[0m \u001b[1m0s\u001b[0m 3ms/step - loss: 0.0311 - mean_absolute_error: 0.1361 - val_loss: 0.0205 - val_mean_absolute_error: 0.1195\n",
      "Epoch 5/100\n",
      "\u001b[1m79/79\u001b[0m \u001b[32m━━━━━━━━━━━━━━━━━━━━\u001b[0m\u001b[37m\u001b[0m \u001b[1m0s\u001b[0m 2ms/step - loss: 0.0275 - mean_absolute_error: 0.1267 - val_loss: 0.0219 - val_mean_absolute_error: 0.1265\n",
      "Epoch 6/100\n",
      "\u001b[1m79/79\u001b[0m \u001b[32m━━━━━━━━━━━━━━━━━━━━\u001b[0m\u001b[37m\u001b[0m \u001b[1m0s\u001b[0m 2ms/step - loss: 0.0261 - mean_absolute_error: 0.1207 - val_loss: 0.0209 - val_mean_absolute_error: 0.1235\n",
      "Epoch 7/100\n",
      "\u001b[1m79/79\u001b[0m \u001b[32m━━━━━━━━━━━━━━━━━━━━\u001b[0m\u001b[37m\u001b[0m \u001b[1m0s\u001b[0m 2ms/step - loss: 0.0200 - mean_absolute_error: 0.1116 - val_loss: 0.0219 - val_mean_absolute_error: 0.1268\n",
      "Epoch 8/100\n",
      "\u001b[1m79/79\u001b[0m \u001b[32m━━━━━━━━━━━━━━━━━━━━\u001b[0m\u001b[37m\u001b[0m \u001b[1m0s\u001b[0m 2ms/step - loss: 0.0191 - mean_absolute_error: 0.1074 - val_loss: 0.0155 - val_mean_absolute_error: 0.1030\n",
      "Epoch 9/100\n",
      "\u001b[1m79/79\u001b[0m \u001b[32m━━━━━━━━━━━━━━━━━━━━\u001b[0m\u001b[37m\u001b[0m \u001b[1m0s\u001b[0m 2ms/step - loss: 0.0191 - mean_absolute_error: 0.1048 - val_loss: 0.0161 - val_mean_absolute_error: 0.1070\n",
      "Epoch 10/100\n",
      "\u001b[1m79/79\u001b[0m \u001b[32m━━━━━━━━━━━━━━━━━━━━\u001b[0m\u001b[37m\u001b[0m \u001b[1m0s\u001b[0m 2ms/step - loss: 0.0185 - mean_absolute_error: 0.1011 - val_loss: 0.0141 - val_mean_absolute_error: 0.0978\n",
      "Epoch 11/100\n",
      "\u001b[1m79/79\u001b[0m \u001b[32m━━━━━━━━━━━━━━━━━━━━\u001b[0m\u001b[37m\u001b[0m \u001b[1m0s\u001b[0m 2ms/step - loss: 0.0181 - mean_absolute_error: 0.1024 - val_loss: 0.0146 - val_mean_absolute_error: 0.0999\n",
      "Epoch 12/100\n",
      "\u001b[1m79/79\u001b[0m \u001b[32m━━━━━━━━━━━━━━━━━━━━\u001b[0m\u001b[37m\u001b[0m \u001b[1m0s\u001b[0m 2ms/step - loss: 0.0158 - mean_absolute_error: 0.0970 - val_loss: 0.0139 - val_mean_absolute_error: 0.0973\n",
      "Epoch 13/100\n",
      "\u001b[1m79/79\u001b[0m \u001b[32m━━━━━━━━━━━━━━━━━━━━\u001b[0m\u001b[37m\u001b[0m \u001b[1m0s\u001b[0m 2ms/step - loss: 0.0156 - mean_absolute_error: 0.0973 - val_loss: 0.0127 - val_mean_absolute_error: 0.0923\n",
      "Epoch 14/100\n",
      "\u001b[1m79/79\u001b[0m \u001b[32m━━━━━━━━━━━━━━━━━━━━\u001b[0m\u001b[37m\u001b[0m \u001b[1m0s\u001b[0m 2ms/step - loss: 0.0159 - mean_absolute_error: 0.0974 - val_loss: 0.0147 - val_mean_absolute_error: 0.1018\n",
      "Epoch 15/100\n",
      "\u001b[1m79/79\u001b[0m \u001b[32m━━━━━━━━━━━━━━━━━━━━\u001b[0m\u001b[37m\u001b[0m \u001b[1m0s\u001b[0m 2ms/step - loss: 0.0162 - mean_absolute_error: 0.0972 - val_loss: 0.0130 - val_mean_absolute_error: 0.0934\n",
      "Epoch 16/100\n",
      "\u001b[1m79/79\u001b[0m \u001b[32m━━━━━━━━━━━━━━━━━━━━\u001b[0m\u001b[37m\u001b[0m \u001b[1m0s\u001b[0m 2ms/step - loss: 0.0146 - mean_absolute_error: 0.0931 - val_loss: 0.0124 - val_mean_absolute_error: 0.0913\n",
      "Epoch 17/100\n",
      "\u001b[1m79/79\u001b[0m \u001b[32m━━━━━━━━━━━━━━━━━━━━\u001b[0m\u001b[37m\u001b[0m \u001b[1m0s\u001b[0m 2ms/step - loss: 0.0144 - mean_absolute_error: 0.0928 - val_loss: 0.0121 - val_mean_absolute_error: 0.0898\n",
      "Epoch 18/100\n",
      "\u001b[1m79/79\u001b[0m \u001b[32m━━━━━━━━━━━━━━━━━━━━\u001b[0m\u001b[37m\u001b[0m \u001b[1m0s\u001b[0m 2ms/step - loss: 0.0161 - mean_absolute_error: 0.0970 - val_loss: 0.0119 - val_mean_absolute_error: 0.0884\n",
      "Epoch 19/100\n",
      "\u001b[1m79/79\u001b[0m \u001b[32m━━━━━━━━━━━━━━━━━━━━\u001b[0m\u001b[37m\u001b[0m \u001b[1m0s\u001b[0m 3ms/step - loss: 0.0138 - mean_absolute_error: 0.0906 - val_loss: 0.0127 - val_mean_absolute_error: 0.0926\n",
      "Epoch 20/100\n",
      "\u001b[1m79/79\u001b[0m \u001b[32m━━━━━━━━━━━━━━━━━━━━\u001b[0m\u001b[37m\u001b[0m \u001b[1m0s\u001b[0m 2ms/step - loss: 0.0151 - mean_absolute_error: 0.0957 - val_loss: 0.0124 - val_mean_absolute_error: 0.0908\n",
      "Epoch 21/100\n",
      "\u001b[1m79/79\u001b[0m \u001b[32m━━━━━━━━━━━━━━━━━━━━\u001b[0m\u001b[37m\u001b[0m \u001b[1m0s\u001b[0m 2ms/step - loss: 0.0139 - mean_absolute_error: 0.0924 - val_loss: 0.0123 - val_mean_absolute_error: 0.0906\n",
      "Epoch 22/100\n",
      "\u001b[1m79/79\u001b[0m \u001b[32m━━━━━━━━━━━━━━━━━━━━\u001b[0m\u001b[37m\u001b[0m \u001b[1m0s\u001b[0m 2ms/step - loss: 0.0138 - mean_absolute_error: 0.0907 - val_loss: 0.0124 - val_mean_absolute_error: 0.0911\n",
      "Epoch 23/100\n",
      "\u001b[1m79/79\u001b[0m \u001b[32m━━━━━━━━━━━━━━━━━━━━\u001b[0m\u001b[37m\u001b[0m \u001b[1m0s\u001b[0m 2ms/step - loss: 0.0135 - mean_absolute_error: 0.0903 - val_loss: 0.0114 - val_mean_absolute_error: 0.0857\n",
      "Epoch 24/100\n",
      "\u001b[1m79/79\u001b[0m \u001b[32m━━━━━━━━━━━━━━━━━━━━\u001b[0m\u001b[37m\u001b[0m \u001b[1m0s\u001b[0m 2ms/step - loss: 0.0139 - mean_absolute_error: 0.0919 - val_loss: 0.0118 - val_mean_absolute_error: 0.0878\n",
      "Epoch 25/100\n",
      "\u001b[1m79/79\u001b[0m \u001b[32m━━━━━━━━━━━━━━━━━━━━\u001b[0m\u001b[37m\u001b[0m \u001b[1m0s\u001b[0m 2ms/step - loss: 0.0152 - mean_absolute_error: 0.0951 - val_loss: 0.0121 - val_mean_absolute_error: 0.0895\n",
      "Epoch 26/100\n",
      "\u001b[1m79/79\u001b[0m \u001b[32m━━━━━━━━━━━━━━━━━━━━\u001b[0m\u001b[37m\u001b[0m \u001b[1m0s\u001b[0m 2ms/step - loss: 0.0139 - mean_absolute_error: 0.0904 - val_loss: 0.0121 - val_mean_absolute_error: 0.0891\n",
      "Epoch 27/100\n",
      "\u001b[1m79/79\u001b[0m \u001b[32m━━━━━━━━━━━━━━━━━━━━\u001b[0m\u001b[37m\u001b[0m \u001b[1m0s\u001b[0m 2ms/step - loss: 0.0142 - mean_absolute_error: 0.0921 - val_loss: 0.0117 - val_mean_absolute_error: 0.0872\n",
      "Epoch 28/100\n",
      "\u001b[1m79/79\u001b[0m \u001b[32m━━━━━━━━━━━━━━━━━━━━\u001b[0m\u001b[37m\u001b[0m \u001b[1m0s\u001b[0m 2ms/step - loss: 0.0143 - mean_absolute_error: 0.0923 - val_loss: 0.0114 - val_mean_absolute_error: 0.0858\n",
      "Epoch 29/100\n",
      "\u001b[1m79/79\u001b[0m \u001b[32m━━━━━━━━━━━━━━━━━━━━\u001b[0m\u001b[37m\u001b[0m \u001b[1m0s\u001b[0m 2ms/step - loss: 0.0133 - mean_absolute_error: 0.0894 - val_loss: 0.0111 - val_mean_absolute_error: 0.0839\n",
      "Epoch 30/100\n",
      "\u001b[1m79/79\u001b[0m \u001b[32m━━━━━━━━━━━━━━━━━━━━\u001b[0m\u001b[37m\u001b[0m \u001b[1m0s\u001b[0m 2ms/step - loss: 0.0136 - mean_absolute_error: 0.0900 - val_loss: 0.0114 - val_mean_absolute_error: 0.0859\n",
      "Epoch 31/100\n",
      "\u001b[1m79/79\u001b[0m \u001b[32m━━━━━━━━━━━━━━━━━━━━\u001b[0m\u001b[37m\u001b[0m \u001b[1m0s\u001b[0m 2ms/step - loss: 0.0133 - mean_absolute_error: 0.0888 - val_loss: 0.0116 - val_mean_absolute_error: 0.0867\n",
      "Epoch 32/100\n",
      "\u001b[1m79/79\u001b[0m \u001b[32m━━━━━━━━━━━━━━━━━━━━\u001b[0m\u001b[37m\u001b[0m \u001b[1m0s\u001b[0m 2ms/step - loss: 0.0137 - mean_absolute_error: 0.0902 - val_loss: 0.0109 - val_mean_absolute_error: 0.0823\n",
      "Epoch 33/100\n",
      "\u001b[1m79/79\u001b[0m \u001b[32m━━━━━━━━━━━━━━━━━━━━\u001b[0m\u001b[37m\u001b[0m \u001b[1m0s\u001b[0m 2ms/step - loss: 0.0136 - mean_absolute_error: 0.0890 - val_loss: 0.0117 - val_mean_absolute_error: 0.0878\n",
      "Epoch 34/100\n",
      "\u001b[1m79/79\u001b[0m \u001b[32m━━━━━━━━━━━━━━━━━━━━\u001b[0m\u001b[37m\u001b[0m \u001b[1m0s\u001b[0m 2ms/step - loss: 0.0129 - mean_absolute_error: 0.0885 - val_loss: 0.0114 - val_mean_absolute_error: 0.0863\n",
      "Epoch 35/100\n",
      "\u001b[1m79/79\u001b[0m \u001b[32m━━━━━━━━━━━━━━━━━━━━\u001b[0m\u001b[37m\u001b[0m \u001b[1m0s\u001b[0m 2ms/step - loss: 0.0132 - mean_absolute_error: 0.0893 - val_loss: 0.0113 - val_mean_absolute_error: 0.0849\n",
      "Epoch 36/100\n",
      "\u001b[1m79/79\u001b[0m \u001b[32m━━━━━━━━━━━━━━━━━━━━\u001b[0m\u001b[37m\u001b[0m \u001b[1m0s\u001b[0m 2ms/step - loss: 0.0126 - mean_absolute_error: 0.0857 - val_loss: 0.0116 - val_mean_absolute_error: 0.0870\n",
      "Epoch 37/100\n",
      "\u001b[1m79/79\u001b[0m \u001b[32m━━━━━━━━━━━━━━━━━━━━\u001b[0m\u001b[37m\u001b[0m \u001b[1m0s\u001b[0m 2ms/step - loss: 0.0127 - mean_absolute_error: 0.0862 - val_loss: 0.0109 - val_mean_absolute_error: 0.0828\n",
      "Epoch 38/100\n",
      "\u001b[1m79/79\u001b[0m \u001b[32m━━━━━━━━━━━━━━━━━━━━\u001b[0m\u001b[37m\u001b[0m \u001b[1m0s\u001b[0m 2ms/step - loss: 0.0135 - mean_absolute_error: 0.0896 - val_loss: 0.0112 - val_mean_absolute_error: 0.0842\n",
      "Epoch 39/100\n",
      "\u001b[1m79/79\u001b[0m \u001b[32m━━━━━━━━━━━━━━━━━━━━\u001b[0m\u001b[37m\u001b[0m \u001b[1m0s\u001b[0m 2ms/step - loss: 0.0131 - mean_absolute_error: 0.0882 - val_loss: 0.0115 - val_mean_absolute_error: 0.0858\n",
      "Epoch 40/100\n",
      "\u001b[1m79/79\u001b[0m \u001b[32m━━━━━━━━━━━━━━━━━━━━\u001b[0m\u001b[37m\u001b[0m \u001b[1m0s\u001b[0m 2ms/step - loss: 0.0136 - mean_absolute_error: 0.0910 - val_loss: 0.0113 - val_mean_absolute_error: 0.0850\n",
      "Epoch 41/100\n",
      "\u001b[1m79/79\u001b[0m \u001b[32m━━━━━━━━━━━━━━━━━━━━\u001b[0m\u001b[37m\u001b[0m \u001b[1m0s\u001b[0m 2ms/step - loss: 0.0129 - mean_absolute_error: 0.0875 - val_loss: 0.0115 - val_mean_absolute_error: 0.0863\n",
      "Epoch 42/100\n",
      "\u001b[1m79/79\u001b[0m \u001b[32m━━━━━━━━━━━━━━━━━━━━\u001b[0m\u001b[37m\u001b[0m \u001b[1m0s\u001b[0m 2ms/step - loss: 0.0131 - mean_absolute_error: 0.0871 - val_loss: 0.0110 - val_mean_absolute_error: 0.0838\n",
      "Epoch 43/100\n",
      "\u001b[1m79/79\u001b[0m \u001b[32m━━━━━━━━━━━━━━━━━━━━\u001b[0m\u001b[37m\u001b[0m \u001b[1m0s\u001b[0m 2ms/step - loss: 0.0127 - mean_absolute_error: 0.0868 - val_loss: 0.0115 - val_mean_absolute_error: 0.0865\n",
      "Epoch 44/100\n",
      "\u001b[1m79/79\u001b[0m \u001b[32m━━━━━━━━━━━━━━━━━━━━\u001b[0m\u001b[37m\u001b[0m \u001b[1m0s\u001b[0m 2ms/step - loss: 0.0125 - mean_absolute_error: 0.0864 - val_loss: 0.0111 - val_mean_absolute_error: 0.0844\n",
      "Epoch 45/100\n",
      "\u001b[1m79/79\u001b[0m \u001b[32m━━━━━━━━━━━━━━━━━━━━\u001b[0m\u001b[37m\u001b[0m \u001b[1m0s\u001b[0m 2ms/step - loss: 0.0127 - mean_absolute_error: 0.0874 - val_loss: 0.0113 - val_mean_absolute_error: 0.0858\n",
      "Epoch 46/100\n",
      "\u001b[1m79/79\u001b[0m \u001b[32m━━━━━━━━━━━━━━━━━━━━\u001b[0m\u001b[37m\u001b[0m \u001b[1m0s\u001b[0m 2ms/step - loss: 0.0124 - mean_absolute_error: 0.0857 - val_loss: 0.0108 - val_mean_absolute_error: 0.0818\n",
      "Epoch 47/100\n",
      "\u001b[1m79/79\u001b[0m \u001b[32m━━━━━━━━━━━━━━━━━━━━\u001b[0m\u001b[37m\u001b[0m \u001b[1m0s\u001b[0m 2ms/step - loss: 0.0134 - mean_absolute_error: 0.0897 - val_loss: 0.0108 - val_mean_absolute_error: 0.0820\n",
      "Epoch 48/100\n",
      "\u001b[1m79/79\u001b[0m \u001b[32m━━━━━━━━━━━━━━━━━━━━\u001b[0m\u001b[37m\u001b[0m \u001b[1m0s\u001b[0m 2ms/step - loss: 0.0121 - mean_absolute_error: 0.0848 - val_loss: 0.0112 - val_mean_absolute_error: 0.0853\n",
      "Epoch 49/100\n",
      "\u001b[1m79/79\u001b[0m \u001b[32m━━━━━━━━━━━━━━━━━━━━\u001b[0m\u001b[37m\u001b[0m \u001b[1m0s\u001b[0m 2ms/step - loss: 0.0117 - mean_absolute_error: 0.0830 - val_loss: 0.0110 - val_mean_absolute_error: 0.0835\n",
      "Epoch 50/100\n",
      "\u001b[1m79/79\u001b[0m \u001b[32m━━━━━━━━━━━━━━━━━━━━\u001b[0m\u001b[37m\u001b[0m \u001b[1m0s\u001b[0m 2ms/step - loss: 0.0128 - mean_absolute_error: 0.0874 - val_loss: 0.0110 - val_mean_absolute_error: 0.0836\n",
      "Epoch 51/100\n",
      "\u001b[1m79/79\u001b[0m \u001b[32m━━━━━━━━━━━━━━━━━━━━\u001b[0m\u001b[37m\u001b[0m \u001b[1m0s\u001b[0m 2ms/step - loss: 0.0117 - mean_absolute_error: 0.0835 - val_loss: 0.0113 - val_mean_absolute_error: 0.0849\n",
      "Epoch 52/100\n",
      "\u001b[1m79/79\u001b[0m \u001b[32m━━━━━━━━━━━━━━━━━━━━\u001b[0m\u001b[37m\u001b[0m \u001b[1m0s\u001b[0m 2ms/step - loss: 0.0121 - mean_absolute_error: 0.0857 - val_loss: 0.0108 - val_mean_absolute_error: 0.0811\n",
      "Epoch 53/100\n",
      "\u001b[1m79/79\u001b[0m \u001b[32m━━━━━━━━━━━━━━━━━━━━\u001b[0m\u001b[37m\u001b[0m \u001b[1m0s\u001b[0m 2ms/step - loss: 0.0119 - mean_absolute_error: 0.0835 - val_loss: 0.0115 - val_mean_absolute_error: 0.0863\n",
      "Epoch 54/100\n",
      "\u001b[1m79/79\u001b[0m \u001b[32m━━━━━━━━━━━━━━━━━━━━\u001b[0m\u001b[37m\u001b[0m \u001b[1m0s\u001b[0m 2ms/step - loss: 0.0119 - mean_absolute_error: 0.0856 - val_loss: 0.0106 - val_mean_absolute_error: 0.0815\n",
      "Epoch 55/100\n",
      "\u001b[1m79/79\u001b[0m \u001b[32m━━━━━━━━━━━━━━━━━━━━\u001b[0m\u001b[37m\u001b[0m \u001b[1m0s\u001b[0m 2ms/step - loss: 0.0118 - mean_absolute_error: 0.0822 - val_loss: 0.0110 - val_mean_absolute_error: 0.0839\n",
      "Epoch 56/100\n",
      "\u001b[1m79/79\u001b[0m \u001b[32m━━━━━━━━━━━━━━━━━━━━\u001b[0m\u001b[37m\u001b[0m \u001b[1m0s\u001b[0m 2ms/step - loss: 0.0124 - mean_absolute_error: 0.0857 - val_loss: 0.0119 - val_mean_absolute_error: 0.0886\n",
      "Epoch 57/100\n",
      "\u001b[1m79/79\u001b[0m \u001b[32m━━━━━━━━━━━━━━━━━━━━\u001b[0m\u001b[37m\u001b[0m \u001b[1m0s\u001b[0m 2ms/step - loss: 0.0126 - mean_absolute_error: 0.0869 - val_loss: 0.0109 - val_mean_absolute_error: 0.0825\n",
      "Epoch 58/100\n",
      "\u001b[1m79/79\u001b[0m \u001b[32m━━━━━━━━━━━━━━━━━━━━\u001b[0m\u001b[37m\u001b[0m \u001b[1m0s\u001b[0m 2ms/step - loss: 0.0124 - mean_absolute_error: 0.0851 - val_loss: 0.0109 - val_mean_absolute_error: 0.0831\n",
      "Epoch 59/100\n",
      "\u001b[1m79/79\u001b[0m \u001b[32m━━━━━━━━━━━━━━━━━━━━\u001b[0m\u001b[37m\u001b[0m \u001b[1m0s\u001b[0m 2ms/step - loss: 0.0119 - mean_absolute_error: 0.0841 - val_loss: 0.0108 - val_mean_absolute_error: 0.0827\n",
      "Epoch 60/100\n",
      "\u001b[1m79/79\u001b[0m \u001b[32m━━━━━━━━━━━━━━━━━━━━\u001b[0m\u001b[37m\u001b[0m \u001b[1m0s\u001b[0m 2ms/step - loss: 0.0117 - mean_absolute_error: 0.0845 - val_loss: 0.0107 - val_mean_absolute_error: 0.0819\n",
      "Epoch 61/100\n",
      "\u001b[1m79/79\u001b[0m \u001b[32m━━━━━━━━━━━━━━━━━━━━\u001b[0m\u001b[37m\u001b[0m \u001b[1m0s\u001b[0m 2ms/step - loss: 0.0121 - mean_absolute_error: 0.0848 - val_loss: 0.0105 - val_mean_absolute_error: 0.0808\n",
      "Epoch 62/100\n",
      "\u001b[1m79/79\u001b[0m \u001b[32m━━━━━━━━━━━━━━━━━━━━\u001b[0m\u001b[37m\u001b[0m \u001b[1m0s\u001b[0m 2ms/step - loss: 0.0120 - mean_absolute_error: 0.0836 - val_loss: 0.0117 - val_mean_absolute_error: 0.0880\n",
      "Epoch 63/100\n",
      "\u001b[1m79/79\u001b[0m \u001b[32m━━━━━━━━━━━━━━━━━━━━\u001b[0m\u001b[37m\u001b[0m \u001b[1m0s\u001b[0m 2ms/step - loss: 0.0106 - mean_absolute_error: 0.0797 - val_loss: 0.0112 - val_mean_absolute_error: 0.0852\n",
      "Epoch 64/100\n",
      "\u001b[1m79/79\u001b[0m \u001b[32m━━━━━━━━━━━━━━━━━━━━\u001b[0m\u001b[37m\u001b[0m \u001b[1m0s\u001b[0m 2ms/step - loss: 0.0121 - mean_absolute_error: 0.0846 - val_loss: 0.0109 - val_mean_absolute_error: 0.0833\n",
      "Epoch 65/100\n",
      "\u001b[1m79/79\u001b[0m \u001b[32m━━━━━━━━━━━━━━━━━━━━\u001b[0m\u001b[37m\u001b[0m \u001b[1m0s\u001b[0m 2ms/step - loss: 0.0125 - mean_absolute_error: 0.0864 - val_loss: 0.0111 - val_mean_absolute_error: 0.0842\n",
      "Epoch 66/100\n",
      "\u001b[1m79/79\u001b[0m \u001b[32m━━━━━━━━━━━━━━━━━━━━\u001b[0m\u001b[37m\u001b[0m \u001b[1m0s\u001b[0m 2ms/step - loss: 0.0120 - mean_absolute_error: 0.0846 - val_loss: 0.0108 - val_mean_absolute_error: 0.0826\n",
      "Epoch 67/100\n",
      "\u001b[1m79/79\u001b[0m \u001b[32m━━━━━━━━━━━━━━━━━━━━\u001b[0m\u001b[37m\u001b[0m \u001b[1m0s\u001b[0m 2ms/step - loss: 0.0123 - mean_absolute_error: 0.0853 - val_loss: 0.0105 - val_mean_absolute_error: 0.0806\n",
      "Epoch 68/100\n",
      "\u001b[1m79/79\u001b[0m \u001b[32m━━━━━━━━━━━━━━━━━━━━\u001b[0m\u001b[37m\u001b[0m \u001b[1m0s\u001b[0m 2ms/step - loss: 0.0115 - mean_absolute_error: 0.0821 - val_loss: 0.0105 - val_mean_absolute_error: 0.0810\n",
      "Epoch 69/100\n",
      "\u001b[1m79/79\u001b[0m \u001b[32m━━━━━━━━━━━━━━━━━━━━\u001b[0m\u001b[37m\u001b[0m \u001b[1m0s\u001b[0m 2ms/step - loss: 0.0117 - mean_absolute_error: 0.0835 - val_loss: 0.0105 - val_mean_absolute_error: 0.0807\n",
      "Epoch 70/100\n",
      "\u001b[1m79/79\u001b[0m \u001b[32m━━━━━━━━━━━━━━━━━━━━\u001b[0m\u001b[37m\u001b[0m \u001b[1m0s\u001b[0m 2ms/step - loss: 0.0120 - mean_absolute_error: 0.0852 - val_loss: 0.0104 - val_mean_absolute_error: 0.0800\n",
      "Epoch 71/100\n",
      "\u001b[1m79/79\u001b[0m \u001b[32m━━━━━━━━━━━━━━━━━━━━\u001b[0m\u001b[37m\u001b[0m \u001b[1m0s\u001b[0m 2ms/step - loss: 0.0122 - mean_absolute_error: 0.0855 - val_loss: 0.0106 - val_mean_absolute_error: 0.0815\n",
      "Epoch 72/100\n",
      "\u001b[1m79/79\u001b[0m \u001b[32m━━━━━━━━━━━━━━━━━━━━\u001b[0m\u001b[37m\u001b[0m \u001b[1m0s\u001b[0m 2ms/step - loss: 0.0114 - mean_absolute_error: 0.0821 - val_loss: 0.0113 - val_mean_absolute_error: 0.0858\n",
      "Epoch 73/100\n",
      "\u001b[1m79/79\u001b[0m \u001b[32m━━━━━━━━━━━━━━━━━━━━\u001b[0m\u001b[37m\u001b[0m \u001b[1m0s\u001b[0m 2ms/step - loss: 0.0113 - mean_absolute_error: 0.0829 - val_loss: 0.0104 - val_mean_absolute_error: 0.0803\n",
      "Epoch 74/100\n",
      "\u001b[1m79/79\u001b[0m \u001b[32m━━━━━━━━━━━━━━━━━━━━\u001b[0m\u001b[37m\u001b[0m \u001b[1m0s\u001b[0m 2ms/step - loss: 0.0116 - mean_absolute_error: 0.0835 - val_loss: 0.0113 - val_mean_absolute_error: 0.0861\n",
      "Epoch 75/100\n",
      "\u001b[1m79/79\u001b[0m \u001b[32m━━━━━━━━━━━━━━━━━━━━\u001b[0m\u001b[37m\u001b[0m \u001b[1m0s\u001b[0m 3ms/step - loss: 0.0118 - mean_absolute_error: 0.0846 - val_loss: 0.0106 - val_mean_absolute_error: 0.0819\n",
      "Epoch 76/100\n",
      "\u001b[1m79/79\u001b[0m \u001b[32m━━━━━━━━━━━━━━━━━━━━\u001b[0m\u001b[37m\u001b[0m \u001b[1m0s\u001b[0m 2ms/step - loss: 0.0115 - mean_absolute_error: 0.0832 - val_loss: 0.0108 - val_mean_absolute_error: 0.0830\n",
      "Epoch 77/100\n",
      "\u001b[1m79/79\u001b[0m \u001b[32m━━━━━━━━━━━━━━━━━━━━\u001b[0m\u001b[37m\u001b[0m \u001b[1m0s\u001b[0m 2ms/step - loss: 0.0116 - mean_absolute_error: 0.0831 - val_loss: 0.0102 - val_mean_absolute_error: 0.0793\n",
      "Epoch 78/100\n",
      "\u001b[1m79/79\u001b[0m \u001b[32m━━━━━━━━━━━━━━━━━━━━\u001b[0m\u001b[37m\u001b[0m \u001b[1m0s\u001b[0m 2ms/step - loss: 0.0118 - mean_absolute_error: 0.0836 - val_loss: 0.0103 - val_mean_absolute_error: 0.0802\n",
      "Epoch 79/100\n",
      "\u001b[1m79/79\u001b[0m \u001b[32m━━━━━━━━━━━━━━━━━━━━\u001b[0m\u001b[37m\u001b[0m \u001b[1m0s\u001b[0m 2ms/step - loss: 0.0112 - mean_absolute_error: 0.0816 - val_loss: 0.0107 - val_mean_absolute_error: 0.0827\n",
      "Epoch 80/100\n",
      "\u001b[1m79/79\u001b[0m \u001b[32m━━━━━━━━━━━━━━━━━━━━\u001b[0m\u001b[37m\u001b[0m \u001b[1m0s\u001b[0m 2ms/step - loss: 0.0112 - mean_absolute_error: 0.0815 - val_loss: 0.0102 - val_mean_absolute_error: 0.0797\n",
      "Epoch 81/100\n",
      "\u001b[1m79/79\u001b[0m \u001b[32m━━━━━━━━━━━━━━━━━━━━\u001b[0m\u001b[37m\u001b[0m \u001b[1m0s\u001b[0m 2ms/step - loss: 0.0115 - mean_absolute_error: 0.0822 - val_loss: 0.0102 - val_mean_absolute_error: 0.0793\n",
      "Epoch 82/100\n",
      "\u001b[1m79/79\u001b[0m \u001b[32m━━━━━━━━━━━━━━━━━━━━\u001b[0m\u001b[37m\u001b[0m \u001b[1m0s\u001b[0m 2ms/step - loss: 0.0114 - mean_absolute_error: 0.0818 - val_loss: 0.0104 - val_mean_absolute_error: 0.0809\n",
      "Epoch 83/100\n",
      "\u001b[1m79/79\u001b[0m \u001b[32m━━━━━━━━━━━━━━━━━━━━\u001b[0m\u001b[37m\u001b[0m \u001b[1m0s\u001b[0m 2ms/step - loss: 0.0108 - mean_absolute_error: 0.0800 - val_loss: 0.0106 - val_mean_absolute_error: 0.0827\n",
      "Epoch 84/100\n",
      "\u001b[1m79/79\u001b[0m \u001b[32m━━━━━━━━━━━━━━━━━━━━\u001b[0m\u001b[37m\u001b[0m \u001b[1m0s\u001b[0m 2ms/step - loss: 0.0113 - mean_absolute_error: 0.0823 - val_loss: 0.0102 - val_mean_absolute_error: 0.0792\n",
      "Epoch 85/100\n",
      "\u001b[1m79/79\u001b[0m \u001b[32m━━━━━━━━━━━━━━━━━━━━\u001b[0m\u001b[37m\u001b[0m \u001b[1m0s\u001b[0m 2ms/step - loss: 0.0109 - mean_absolute_error: 0.0802 - val_loss: 0.0107 - val_mean_absolute_error: 0.0827\n",
      "Epoch 86/100\n",
      "\u001b[1m79/79\u001b[0m \u001b[32m━━━━━━━━━━━━━━━━━━━━\u001b[0m\u001b[37m\u001b[0m \u001b[1m0s\u001b[0m 2ms/step - loss: 0.0111 - mean_absolute_error: 0.0810 - val_loss: 0.0102 - val_mean_absolute_error: 0.0792\n",
      "Epoch 87/100\n",
      "\u001b[1m79/79\u001b[0m \u001b[32m━━━━━━━━━━━━━━━━━━━━\u001b[0m\u001b[37m\u001b[0m \u001b[1m0s\u001b[0m 2ms/step - loss: 0.0111 - mean_absolute_error: 0.0807 - val_loss: 0.0106 - val_mean_absolute_error: 0.0817\n",
      "Epoch 88/100\n",
      "\u001b[1m79/79\u001b[0m \u001b[32m━━━━━━━━━━━━━━━━━━━━\u001b[0m\u001b[37m\u001b[0m \u001b[1m0s\u001b[0m 2ms/step - loss: 0.0109 - mean_absolute_error: 0.0810 - val_loss: 0.0104 - val_mean_absolute_error: 0.0814\n",
      "Epoch 89/100\n",
      "\u001b[1m79/79\u001b[0m \u001b[32m━━━━━━━━━━━━━━━━━━━━\u001b[0m\u001b[37m\u001b[0m \u001b[1m0s\u001b[0m 2ms/step - loss: 0.0111 - mean_absolute_error: 0.0811 - val_loss: 0.0102 - val_mean_absolute_error: 0.0800\n",
      "Epoch 90/100\n",
      "\u001b[1m79/79\u001b[0m \u001b[32m━━━━━━━━━━━━━━━━━━━━\u001b[0m\u001b[37m\u001b[0m \u001b[1m0s\u001b[0m 2ms/step - loss: 0.0107 - mean_absolute_error: 0.0805 - val_loss: 0.0102 - val_mean_absolute_error: 0.0801\n",
      "Epoch 91/100\n",
      "\u001b[1m79/79\u001b[0m \u001b[32m━━━━━━━━━━━━━━━━━━━━\u001b[0m\u001b[37m\u001b[0m \u001b[1m0s\u001b[0m 2ms/step - loss: 0.0112 - mean_absolute_error: 0.0811 - val_loss: 0.0104 - val_mean_absolute_error: 0.0814\n",
      "Epoch 92/100\n",
      "\u001b[1m79/79\u001b[0m \u001b[32m━━━━━━━━━━━━━━━━━━━━\u001b[0m\u001b[37m\u001b[0m \u001b[1m0s\u001b[0m 2ms/step - loss: 0.0112 - mean_absolute_error: 0.0815 - val_loss: 0.0100 - val_mean_absolute_error: 0.0790\n",
      "Epoch 93/100\n",
      "\u001b[1m79/79\u001b[0m \u001b[32m━━━━━━━━━━━━━━━━━━━━\u001b[0m\u001b[37m\u001b[0m \u001b[1m0s\u001b[0m 3ms/step - loss: 0.0110 - mean_absolute_error: 0.0799 - val_loss: 0.0102 - val_mean_absolute_error: 0.0795\n",
      "Epoch 94/100\n",
      "\u001b[1m79/79\u001b[0m \u001b[32m━━━━━━━━━━━━━━━━━━━━\u001b[0m\u001b[37m\u001b[0m \u001b[1m0s\u001b[0m 2ms/step - loss: 0.0110 - mean_absolute_error: 0.0799 - val_loss: 0.0099 - val_mean_absolute_error: 0.0780\n",
      "Epoch 95/100\n",
      "\u001b[1m79/79\u001b[0m \u001b[32m━━━━━━━━━━━━━━━━━━━━\u001b[0m\u001b[37m\u001b[0m \u001b[1m0s\u001b[0m 2ms/step - loss: 0.0104 - mean_absolute_error: 0.0784 - val_loss: 0.0111 - val_mean_absolute_error: 0.0849\n",
      "Epoch 96/100\n",
      "\u001b[1m79/79\u001b[0m \u001b[32m━━━━━━━━━━━━━━━━━━━━\u001b[0m\u001b[37m\u001b[0m \u001b[1m0s\u001b[0m 2ms/step - loss: 0.0112 - mean_absolute_error: 0.0823 - val_loss: 0.0100 - val_mean_absolute_error: 0.0787\n",
      "Epoch 97/100\n",
      "\u001b[1m79/79\u001b[0m \u001b[32m━━━━━━━━━━━━━━━━━━━━\u001b[0m\u001b[37m\u001b[0m \u001b[1m0s\u001b[0m 2ms/step - loss: 0.0106 - mean_absolute_error: 0.0795 - val_loss: 0.0104 - val_mean_absolute_error: 0.0816\n",
      "Epoch 98/100\n",
      "\u001b[1m79/79\u001b[0m \u001b[32m━━━━━━━━━━━━━━━━━━━━\u001b[0m\u001b[37m\u001b[0m \u001b[1m0s\u001b[0m 2ms/step - loss: 0.0107 - mean_absolute_error: 0.0801 - val_loss: 0.0102 - val_mean_absolute_error: 0.0798\n",
      "Epoch 99/100\n",
      "\u001b[1m79/79\u001b[0m \u001b[32m━━━━━━━━━━━━━━━━━━━━\u001b[0m\u001b[37m\u001b[0m \u001b[1m0s\u001b[0m 2ms/step - loss: 0.0105 - mean_absolute_error: 0.0791 - val_loss: 0.0106 - val_mean_absolute_error: 0.0822\n",
      "Epoch 100/100\n",
      "\u001b[1m79/79\u001b[0m \u001b[32m━━━━━━━━━━━━━━━━━━━━\u001b[0m\u001b[37m\u001b[0m \u001b[1m0s\u001b[0m 2ms/step - loss: 0.0110 - mean_absolute_error: 0.0812 - val_loss: 0.0100 - val_mean_absolute_error: 0.0782\n"
     ]
    }
   ],
   "source": [
    "history = model.fit(\n",
    "    X_train,\n",
    "    y_train,\n",
    "    epochs=100,               \n",
    "    batch_size=32,           \n",
    "    validation_data=(X_test, y_test) \n",
    ")"
   ]
  },
  {
   "cell_type": "code",
   "execution_count": 37,
   "id": "0bb9e614-c465-452c-915a-ae6ac67fa6e4",
   "metadata": {},
   "outputs": [
    {
     "name": "stdout",
     "output_type": "stream",
     "text": [
      "\u001b[1m34/34\u001b[0m \u001b[32m━━━━━━━━━━━━━━━━━━━━\u001b[0m\u001b[37m\u001b[0m \u001b[1m0s\u001b[0m 2ms/step\n",
      "\u001b[1m79/79\u001b[0m \u001b[32m━━━━━━━━━━━━━━━━━━━━\u001b[0m\u001b[37m\u001b[0m \u001b[1m0s\u001b[0m 860us/step\n"
     ]
    }
   ],
   "source": [
    "predictions = model.predict(X_test)\n",
    "y_train_pred = model.predict(X_train)"
   ]
  },
  {
   "cell_type": "code",
   "execution_count": 38,
   "id": "346620f5-8d5f-4ae8-a158-818f685a5eb1",
   "metadata": {},
   "outputs": [
    {
     "data": {
      "image/png": "[encoded data removed]",
      "text/plain": [
       "<Figure size 640x480 with 1 Axes>"
      ]
     },
     "metadata": {},
     "output_type": "display_data"
    }
   ],
   "source": [
    "import matplotlib.pyplot as plt\n",
    "\n",
    "plt.plot(history.history['loss'], label='Training Loss')\n",
    "plt.plot(history.history['val_loss'], label='Validation Loss')\n",
    "plt.xlabel('Epochs')\n",
    "plt.ylabel('Loss')\n",
    "plt.legend()\n",
    "plt.show()"
   ]
  },
  {
   "cell_type": "code",
   "execution_count": 39,
   "id": "3cfab99c-3155-4d5a-9612-f7e3d4432c21",
   "metadata": {},
   "outputs": [
    {
     "name": "stdout",
     "output_type": "stream",
     "text": [
      "MSE:  0.009988025249292324\n",
      "MAE:  0.07822666159843933\n",
      "R sqaure:  0.4216209800291377\n"
     ]
    }
   ],
   "source": [
    "MSE = mean_squared_error(y_test, predictions)\n",
    "MAE = mean_absolute_error(y_test, predictions)\n",
    "print(\"MSE: \", MSE)\n",
    "print(\"MAE: \", MAE )\n",
    "print(\"R sqaure: \",  r2_score(y_test, predictions))"
   ]
  },
  {
   "cell_type": "code",
   "execution_count": 40,
   "id": "22f68c15-1576-4c16-907d-5a475c3482e4",
   "metadata": {},
   "outputs": [
    {
     "name": "stdout",
     "output_type": "stream",
     "text": [
      "Train Accuracy (R^2): 0.5452916083988156\n",
      "Test Accuracy (R^2): 0.4216209800291377\n"
     ]
    }
   ],
   "source": [
    "train_accuracy = r2_score(y_train, y_train_pred)\n",
    "test_accuracy = r2_score(y_test, predictions)\n",
    "\n",
    "print(\"Train Accuracy (R^2):\", train_accuracy)\n",
    "print(\"Test Accuracy (R^2):\", test_accuracy)"
   ]
  },
  {
   "cell_type": "code",
   "execution_count": null,
   "id": "49a5b756-e0e0-4886-be01-8b79c5c1367d",
   "metadata": {},
   "outputs": [],
   "source": []
  }
 ],
 "metadata": {
  "kernelspec": {
   "display_name": "Python 3 (ipykernel)",
   "language": "python",
   "name": "python3"
  },
  "language_info": {
   "codemirror_mode": {
    "name": "ipython",
    "version": 3
   },
   "file_extension": ".py",
   "mimetype": "text/x-python",
   "name": "python",
   "nbconvert_exporter": "python",
   "pygments_lexer": "ipython3",
   "version": "3.10.4"
  }
 },
 "nbformat": 4,
 "nbformat_minor": 5
}
